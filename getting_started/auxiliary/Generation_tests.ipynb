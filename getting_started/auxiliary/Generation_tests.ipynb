{
 "cells": [
  {
   "cell_type": "code",
   "execution_count": 3,
   "id": "c6b15b08",
   "metadata": {},
   "outputs": [],
   "source": [
    "import pathlib\n",
    "from pprint import pprint\n",
    "from matplotlib import pyplot as plt\n",
    "import numpy as np\n",
    "import itertools\n",
    "from lips.benchmark.powergridBenchmark import PowerGridBenchmark\n",
    "from lips.utils import get_path"
   ]
  },
  {
   "cell_type": "code",
   "execution_count": 29,
   "id": "ef92805f",
   "metadata": {},
   "outputs": [],
   "source": [
    "# indicate required paths\n",
    "LIPS_PATH = pathlib.Path().resolve().parent # it is supposed that the notebook had run from getting_started folder\n",
    "DATA_PATH = LIPS_PATH / \"reference_data\" / \"powergrid\" / \"l2rpn_case14_sandbox\"\n",
    "BENCH_CONFIG_PATH = LIPS_PATH / \"configurations\" / \"powergrid\" / \"benchmarks\" / \"l2rpn_case14_sandbox.ini\"\n",
    "SIM_CONFIG_PATH = LIPS_PATH / \"configurations\" / \"powergrid\" / \"simulators\"\n",
    "BASELINES_PATH = LIPS_PATH / \"trained_baselines\" / \"powergrid\"\n",
    "TRAINED_MODEL_PATH = LIPS_PATH / \"trained_models\" / \"powergrid\"\n",
    "EVALUATION_PATH = LIPS_PATH / \"evaluation_results\" / \"PowerGrid\"\n",
    "LOG_PATH = LIPS_PATH / \"lips_logs.log\""
   ]
  },
  {
   "cell_type": "markdown",
   "id": "d0fae301",
   "metadata": {},
   "source": [
    "## Benchmark1"
   ]
  },
  {
   "cell_type": "code",
   "execution_count": 30,
   "id": "a41b6c69",
   "metadata": {},
   "outputs": [],
   "source": [
    "benchmark1 = PowerGridBenchmark(benchmark_name=\"Benchmark1\",\n",
    "                                benchmark_path=DATA_PATH,\n",
    "                                load_data_set=True,\n",
    "                                log_path=LOG_PATH,\n",
    "                                config_path=BENCH_CONFIG_PATH\n",
    "                               )"
   ]
  },
  {
   "cell_type": "code",
   "execution_count": null,
   "id": "ce10c19e",
   "metadata": {},
   "outputs": [],
   "source": [
    "benchmark1._fills_actor_simulator()\n",
    "env = benchmark1.env"
   ]
  },
  {
   "cell_type": "markdown",
   "id": "43361a9f",
   "metadata": {},
   "source": [
    "### Verify that the number of line disconnections are respected for all the datasets"
   ]
  },
  {
   "cell_type": "code",
   "execution_count": 32,
   "id": "5fb1fff0",
   "metadata": {},
   "outputs": [],
   "source": [
    "# there should be zero disconnection for more than two lines in training data\n",
    "line_status_train = benchmark1.train_dataset.data[\"line_status\"]\n",
    "assert np.sum(env.n_line - np.sum(line_status_train, axis=1) > 2) == 0\n",
    "# there should be zero disconnection for more than two lines in test data\n",
    "line_status_test = benchmark1._test_dataset.data[\"line_status\"]\n",
    "assert np.sum(env.n_line - np.sum(line_status_test, axis=1) > 2) == 0\n",
    "# there should be zero disconnection for more than three lines in ood test data\n",
    "line_status_test_ood = benchmark1._test_ood_topo_dataset.data[\"line_status\"]\n",
    "assert np.sum(env.n_line - np.sum(line_status_test_ood, axis=1) > 3) == 0"
   ]
  },
  {
   "cell_type": "markdown",
   "id": "8a1564f4",
   "metadata": {},
   "source": [
    "### Verify that the topology changes are not applied on more than 3 substations"
   ]
  },
  {
   "cell_type": "code",
   "execution_count": 33,
   "id": "cb45fa63",
   "metadata": {},
   "outputs": [],
   "source": [
    "topo_vect = benchmark1.train_dataset.data[\"topo_vect\"]\n",
    "sub_topo = np.array(list(itertools.chain.from_iterable(itertools.repeat(x, l) \n",
    "                                                       for x, l in zip(np.arange(env.n_sub),env.sub_info))))"
   ]
  },
  {
   "cell_type": "code",
   "execution_count": 34,
   "id": "d0ace0bf",
   "metadata": {},
   "outputs": [],
   "source": [
    "changed_subs = []\n",
    "for sub_id in range(env.n_sub):\n",
    "    changed_subs.append(np.sum(topo_vect[:, sub_topo==sub_id] == 2, axis=1)>0)\n",
    "changed_subs = np.vstack(changed_subs)"
   ]
  },
  {
   "cell_type": "code",
   "execution_count": 35,
   "id": "c4728760",
   "metadata": {},
   "outputs": [],
   "source": [
    "assert sum(np.sum(changed_subs, axis=0) > 3) == 0"
   ]
  },
  {
   "cell_type": "markdown",
   "id": "3bd5ba0a",
   "metadata": {},
   "source": [
    "##  Benchmark2"
   ]
  },
  {
   "cell_type": "code",
   "execution_count": 61,
   "id": "cccfc50a",
   "metadata": {},
   "outputs": [],
   "source": [
    "benchmark2 = PowerGridBenchmark(benchmark_name=\"Benchmark2\",\n",
    "                                benchmark_path=DATA_PATH,\n",
    "                                load_data_set=True,\n",
    "                                log_path=LOG_PATH,\n",
    "                                config_path=CONFIG_PATH\n",
    "                               )"
   ]
  },
  {
   "cell_type": "code",
   "execution_count": null,
   "id": "dc47e6b1",
   "metadata": {},
   "outputs": [],
   "source": [
    "benchmark2._fills_actor_simulator()\n",
    "env = benchmark2.env"
   ]
  },
  {
   "cell_type": "markdown",
   "id": "88257385",
   "metadata": {},
   "source": [
    "### verify that the number of line disconnections is respected for all the datasets"
   ]
  },
  {
   "cell_type": "code",
   "execution_count": 65,
   "id": "e45cd717",
   "metadata": {},
   "outputs": [],
   "source": [
    "# there should be zero disconnection for more than two lines in training data\n",
    "line_status_train = benchmark2.train_dataset.data[\"line_status\"]\n",
    "assert np.sum(env.n_line - np.sum(line_status_train, axis=1) > 2) == 0\n",
    "# there should be zero disconnection for more than two lines in test data\n",
    "line_status_test = benchmark2._test_dataset.data[\"line_status\"]\n",
    "assert np.sum(env.n_line - np.sum(line_status_test, axis=1) > 2) == 0\n",
    "# there should be zero disconnection for more than three lines in ood test data\n",
    "line_status_test_ood = benchmark2._test_ood_topo_dataset.data[\"line_status\"]\n",
    "assert np.sum(env.n_line - np.sum(line_status_test_ood, axis=1) > 2) == 0"
   ]
  },
  {
   "cell_type": "markdown",
   "id": "9be76548",
   "metadata": {},
   "source": [
    "### Verify that there at most one sub change during training"
   ]
  },
  {
   "cell_type": "code",
   "execution_count": 67,
   "id": "a30eb403",
   "metadata": {},
   "outputs": [],
   "source": [
    "topo_vect = benchmark2.train_dataset.data[\"topo_vect\"]\n",
    "sub_topo = np.array(list(itertools.chain.from_iterable(itertools.repeat(x, l) \n",
    "                                                       for x, l in zip(np.arange(env.n_sub),env.sub_info))))\n",
    "changed_subs = []\n",
    "for sub_id in range(env.n_sub):\n",
    "    changed_subs.append(np.sum(topo_vect[:, sub_topo==sub_id] == 2, axis=1)>0)\n",
    "changed_subs = np.vstack(changed_subs)"
   ]
  },
  {
   "cell_type": "code",
   "execution_count": 68,
   "id": "c721e835",
   "metadata": {},
   "outputs": [
    {
     "data": {
      "text/plain": [
       "array([[False, False, False, ..., False, False, False],\n",
       "       [ True, False,  True, ..., False, False, False],\n",
       "       [False, False, False, ..., False, False, False],\n",
       "       ...,\n",
       "       [False, False, False, ..., False, False, False],\n",
       "       [False, False, False, ..., False, False, False],\n",
       "       [False, False, False, ..., False, False, False]])"
      ]
     },
     "execution_count": 68,
     "metadata": {},
     "output_type": "execute_result"
    }
   ],
   "source": [
    "changed_subs"
   ]
  },
  {
   "cell_type": "code",
   "execution_count": 70,
   "id": "09f6594c",
   "metadata": {},
   "outputs": [],
   "source": [
    "assert sum(np.sum(changed_subs, axis=0) > 1) == 0"
   ]
  },
  {
   "cell_type": "markdown",
   "id": "8d104317",
   "metadata": {},
   "source": [
    "### Verify that there are always one sub change during test"
   ]
  },
  {
   "cell_type": "code",
   "execution_count": 71,
   "id": "e13a9536",
   "metadata": {},
   "outputs": [],
   "source": [
    "topo_vect = benchmark2._test_dataset.data[\"topo_vect\"]\n",
    "sub_topo = np.array(list(itertools.chain.from_iterable(itertools.repeat(x, l) \n",
    "                                                       for x, l in zip(np.arange(env.n_sub),env.sub_info))))\n",
    "changed_subs = []\n",
    "for sub_id in range(env.n_sub):\n",
    "    changed_subs.append(np.sum(topo_vect[:, sub_topo==sub_id] == 2, axis=1)>0)\n",
    "changed_subs = np.vstack(changed_subs)"
   ]
  },
  {
   "cell_type": "code",
   "execution_count": 80,
   "id": "d9a0339c",
   "metadata": {},
   "outputs": [
    {
     "data": {
      "text/plain": [
       "(array([1253, 4334, 4523, 4750, 6721, 9214, 9224]),)"
      ]
     },
     "execution_count": 80,
     "metadata": {},
     "output_type": "execute_result"
    }
   ],
   "source": [
    "np.where(np.sum(changed_subs, axis=0) != 1)"
   ]
  },
  {
   "cell_type": "code",
   "execution_count": 89,
   "id": "51054ab8",
   "metadata": {},
   "outputs": [
    {
     "ename": "AssertionError",
     "evalue": "",
     "output_type": "error",
     "traceback": [
      "\u001b[0;31m---------------------------------------------------------------------------\u001b[0m",
      "\u001b[0;31mAssertionError\u001b[0m                            Traceback (most recent call last)",
      "Input \u001b[0;32mIn [89]\u001b[0m, in \u001b[0;36m<cell line: 1>\u001b[0;34m()\u001b[0m\n\u001b[0;32m----> 1\u001b[0m \u001b[38;5;28;01massert\u001b[39;00m \u001b[38;5;28msum\u001b[39m(np\u001b[38;5;241m.\u001b[39msum(changed_subs, axis\u001b[38;5;241m=\u001b[39m\u001b[38;5;241m0\u001b[39m) \u001b[38;5;241m!=\u001b[39m \u001b[38;5;241m1\u001b[39m) \u001b[38;5;241m==\u001b[39m \u001b[38;5;241m0\u001b[39m\n",
      "\u001b[0;31mAssertionError\u001b[0m: "
     ]
    }
   ],
   "source": [
    "# this does not work\n",
    "assert sum(np.sum(changed_subs, axis=0) != 1) == 0"
   ]
  },
  {
   "cell_type": "code",
   "execution_count": 92,
   "id": "be8cf650",
   "metadata": {},
   "outputs": [],
   "source": [
    "tolerance = 20 # until 20 observations could be for any reason not respect exactly the required behavior\n",
    "assert (tolerance - sum(np.sum(changed_subs, axis=0) != 1)) > 0 "
   ]
  },
  {
   "cell_type": "markdown",
   "id": "6672bfab",
   "metadata": {},
   "source": [
    "### Verify that there are always two sub changes during test ood"
   ]
  },
  {
   "cell_type": "code",
   "execution_count": 93,
   "id": "b42802af",
   "metadata": {},
   "outputs": [],
   "source": [
    "topo_vect = benchmark2._test_ood_topo_dataset.data[\"topo_vect\"]\n",
    "sub_topo = np.array(list(itertools.chain.from_iterable(itertools.repeat(x, l) \n",
    "                                                       for x, l in zip(np.arange(env.n_sub),env.sub_info))))\n",
    "changed_subs = []\n",
    "for sub_id in range(env.n_sub):\n",
    "    changed_subs.append(np.sum(topo_vect[:, sub_topo==sub_id] == 2, axis=1)>0)\n",
    "changed_subs = np.vstack(changed_subs)"
   ]
  },
  {
   "cell_type": "code",
   "execution_count": 94,
   "id": "2d16afac",
   "metadata": {},
   "outputs": [
    {
     "ename": "AssertionError",
     "evalue": "",
     "output_type": "error",
     "traceback": [
      "\u001b[0;31m---------------------------------------------------------------------------\u001b[0m",
      "\u001b[0;31mAssertionError\u001b[0m                            Traceback (most recent call last)",
      "Input \u001b[0;32mIn [94]\u001b[0m, in \u001b[0;36m<cell line: 1>\u001b[0;34m()\u001b[0m\n\u001b[0;32m----> 1\u001b[0m \u001b[38;5;28;01massert\u001b[39;00m \u001b[38;5;28msum\u001b[39m(np\u001b[38;5;241m.\u001b[39msum(changed_subs, axis\u001b[38;5;241m=\u001b[39m\u001b[38;5;241m0\u001b[39m) \u001b[38;5;241m!=\u001b[39m \u001b[38;5;241m2\u001b[39m) \u001b[38;5;241m==\u001b[39m \u001b[38;5;241m0\u001b[39m\n",
      "\u001b[0;31mAssertionError\u001b[0m: "
     ]
    }
   ],
   "source": [
    "assert sum(np.sum(changed_subs, axis=0) != 2) == 0"
   ]
  },
  {
   "cell_type": "code",
   "execution_count": 95,
   "id": "e7199268",
   "metadata": {},
   "outputs": [
    {
     "data": {
      "text/plain": [
       "(array([ 217, 2131, 4155, 4635, 4727, 6458, 6935, 8674, 8817]),)"
      ]
     },
     "execution_count": 95,
     "metadata": {},
     "output_type": "execute_result"
    }
   ],
   "source": [
    "np.where(np.sum(changed_subs, axis=0) != 2)"
   ]
  },
  {
   "cell_type": "code",
   "execution_count": 99,
   "id": "ddfc6f64",
   "metadata": {},
   "outputs": [],
   "source": [
    "tolerance = 20 # until 20 observations could be for any reason not respect exactly the required behavior\n",
    "assert (tolerance - sum(np.sum(changed_subs, axis=0) != 2)) > 0 "
   ]
  },
  {
   "cell_type": "markdown",
   "id": "29b52c36",
   "metadata": {},
   "source": [
    "## Benchmark3"
   ]
  },
  {
   "cell_type": "code",
   "execution_count": null,
   "id": "172b5163",
   "metadata": {},
   "outputs": [],
   "source": [
    "benchmark3 = PowerGridBenchmark(benchmark_name=\"Benchmark3\",\n",
    "                                benchmark_path=DATA_PATH,\n",
    "                                load_data_set=True,\n",
    "                                log_path=LOG_PATH,\n",
    "                                config_path=CONFIG_PATH\n",
    "                               )"
   ]
  },
  {
   "cell_type": "code",
   "execution_count": null,
   "id": "1b6a771f",
   "metadata": {},
   "outputs": [],
   "source": []
  },
  {
   "cell_type": "markdown",
   "id": "7eaee096",
   "metadata": {},
   "source": [
    "# NIPS Track1 environment"
   ]
  },
  {
   "cell_type": "code",
   "execution_count": 39,
   "id": "c8d277d6",
   "metadata": {},
   "outputs": [],
   "source": [
    "LIPS_PATH = pathlib.Path().resolve().parent\n",
    "BENCH_CONFIG_PATH = LIPS_PATH / \"configurations\" / \"powergrid\" / \"l2rpn_neurips_2020_track1_small.ini\"\n",
    "DATA_PATH = LIPS_PATH / \"reference_data\" / \"powergrid\" / \"l2rpn_neurips_2020_track1_small\"\n",
    "LOG_PATH = LIPS_PATH / \"lips_logs_neurips.log\""
   ]
  },
  {
   "cell_type": "code",
   "execution_count": 40,
   "id": "7dc73bec",
   "metadata": {},
   "outputs": [],
   "source": [
    "benchmark1 = PowerGridBenchmark(benchmark_name=\"Benchmark1\",\n",
    "                                benchmark_path=DATA_PATH,\n",
    "                                load_data_set=True,\n",
    "                                log_path=LOG_PATH,\n",
    "                                config_path=BENCH_CONFIG_PATH\n",
    "                               )"
   ]
  },
  {
   "cell_type": "code",
   "execution_count": null,
   "id": "a93b2866",
   "metadata": {},
   "outputs": [],
   "source": [
    "benchmark1._fills_actor_simulator()\n",
    "env = benchmark1.env"
   ]
  },
  {
   "cell_type": "markdown",
   "id": "b9e6b30b",
   "metadata": {},
   "source": [
    "## Benchmark1"
   ]
  },
  {
   "cell_type": "markdown",
   "id": "db2ceb5c",
   "metadata": {},
   "source": [
    "### Verify that the number of line disconnections are respected for all the datasets"
   ]
  },
  {
   "cell_type": "code",
   "execution_count": 42,
   "id": "517b5a67",
   "metadata": {},
   "outputs": [],
   "source": [
    "# there should be zero disconnection for more than two lines in training data\n",
    "line_status_train = benchmark1.train_dataset.data[\"line_status\"]\n",
    "assert np.sum(env.n_line - np.sum(line_status_train, axis=1) > 2) == 0\n",
    "# there should be zero disconnection for more than two lines in test data\n",
    "line_status_test = benchmark1._test_dataset.data[\"line_status\"]\n",
    "assert np.sum(env.n_line - np.sum(line_status_test, axis=1) > 2) == 0\n",
    "# there should be zero disconnection for more than three lines in ood test data\n",
    "line_status_test_ood = benchmark1._test_ood_topo_dataset.data[\"line_status\"]\n",
    "assert np.sum(env.n_line - np.sum(line_status_test_ood, axis=1) > 3) == 0"
   ]
  },
  {
   "cell_type": "markdown",
   "id": "2e5a869c",
   "metadata": {},
   "source": [
    "### Verify that the topology changes are not applied on more than 2 substations"
   ]
  },
  {
   "cell_type": "code",
   "execution_count": 44,
   "id": "f983ca30",
   "metadata": {},
   "outputs": [],
   "source": [
    "topo_vect = benchmark1.train_dataset.data[\"topo_vect\"]\n",
    "sub_topo = np.array(list(itertools.chain.from_iterable(itertools.repeat(x, l) \n",
    "                                                       for x, l in zip(np.arange(env.n_sub),env.sub_info))))"
   ]
  },
  {
   "cell_type": "code",
   "execution_count": 47,
   "id": "53339a05",
   "metadata": {},
   "outputs": [],
   "source": [
    "changed_subs = []\n",
    "for sub_id in range(env.n_sub):\n",
    "    changed_subs.append(np.sum(topo_vect[:, sub_topo==sub_id] == 2, axis=1)>0)\n",
    "changed_subs = np.vstack(changed_subs)"
   ]
  },
  {
   "cell_type": "code",
   "execution_count": 48,
   "id": "8f065db5",
   "metadata": {},
   "outputs": [],
   "source": [
    "assert sum(np.sum(changed_subs, axis=0) > 2) == 0"
   ]
  }
 ],
 "metadata": {
  "kernelspec": {
   "display_name": "lips",
   "language": "python",
   "name": "lips"
  },
  "language_info": {
   "codemirror_mode": {
    "name": "ipython",
    "version": 3
   },
   "file_extension": ".py",
   "mimetype": "text/x-python",
   "name": "python",
   "nbconvert_exporter": "python",
   "pygments_lexer": "ipython3",
   "version": "3.8.10"
  }
 },
 "nbformat": 4,
 "nbformat_minor": 5
}
