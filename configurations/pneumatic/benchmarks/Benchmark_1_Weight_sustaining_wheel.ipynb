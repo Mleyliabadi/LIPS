{
 "cells": [
  {
   "cell_type": "markdown",
   "id": "3f58f35b",
   "metadata": {},
   "source": [
    "# Import all dependencies\n",
    "\n",
    "We import all the dependencies required to run the benchmark"
   ]
  },
  {
   "cell_type": "code",
   "execution_count": 3,
   "id": "ec77ba2d",
   "metadata": {},
   "outputs": [],
   "source": [
    "from lips.config.configmanager import ConfigManager\n",
    "from lips.augmented_simulators.torch_models.u_net import TorchUnet\n",
    "from lips.augmented_simulators.torch_models.fully_connected import TorchFullyConnected\n",
    "from lips.augmented_simulators.torch_simulator import TorchSimulator\n",
    "from lips.dataset.sampler import LHSSampler\n",
    "from lips.dataset.scaler.standard_scaler_per_channel import StandardScalerPerChannel\n",
    "from lips.dataset.scaler.standard_scaler import StandardScaler\n",
    "\n",
    "from lips.physical_simulator.getfemSimulator import GetfemSimulator\n",
    "import lips.physical_simulator.GetfemSimulator.PhysicalFieldNames as PFN\n",
    "\n",
    "from lips.benchmark.wheelBenchmark import WeightSustainingWheelBenchmark\n",
    "from lips.dataset.pneumaticWheelDataSet import SamplerStaticWheelDataSet,DataSetInterpolatorOnGrid,DataSetInterpolatorOnMesh\n"
   ]
  },
  {
   "cell_type": "markdown",
   "id": "42246f55",
   "metadata": {},
   "source": [
    "# Constant definition\n",
    "\n",
    "We defined the constants used all through the program"
   ]
  },
  {
   "cell_type": "code",
   "execution_count": 4,
   "id": "7a9d9800",
   "metadata": {},
   "outputs": [],
   "source": [
    "CONFIG_PATH_BENCHMARK=\"/home/ddanan/HSAProject/LIPSPlatform/LIPS_Github/LIPS/configurations/pneumatic/benchmarks/confWheel.ini\""
   ]
  },
  {
   "cell_type": "markdown",
   "id": "2f334b2a",
   "metadata": {},
   "source": [
    "# Datasets generation\n",
    "\n",
    "We generate the train/test and validation datasets"
   ]
  },
  {
   "cell_type": "code",
   "execution_count": 5,
   "id": "cb71fbba",
   "metadata": {},
   "outputs": [
    {
     "name": "stdout",
     "output_type": "stream",
     "text": [
      "Instance of ConfigManager\n",
      "Config name: WeightSustainingWheelBenchmarkRegular\n",
      "\tenv_name\n",
      "\t\t Value: VerticalDisp_wheelFFNN\n",
      "\tenv_params\n",
      "\t\t Value: {'physical_domain': {'Mesher': 'Getfem', 'refNumByRegion': {'HOLE_BOUND': 1, 'CONTACT_BOUND': 2, 'EXTERIOR_BOUND': 3}, 'wheelDimensions': (8.0, 15.0), 'meshSize': 1}, 'physical_properties': {'problem_type': 'StaticMechanicalStandard', 'materials': [['ALL', {'law': 'LinearElasticity', 'young': 5980000.0, 'poisson': 0.495}]], 'neumann': [['HOLE_BOUND', {'type': 'RimRigidityNeumann', 'Force': 10000000.0}]], 'contact': [['CONTACT_BOUND', {'type': 'Plane', 'gap': 0.0, 'fricCoeff': 0.0}]]}}\n",
      "\tsampler\n",
      "\t\t Value: {'sampler_input_params': {'Force': (10000.0, 10000000.0)}, 'seeds': {'train': 42, 'val': 42, 'test': 42}, 'nb_samples': {'train': 21, 'val': 6, 'test': 3}}\n",
      "\tattr_x\n",
      "\t\t Value: ('Force',)\n",
      "\tattr_y\n",
      "\t\t Value: ('disp',)\n",
      "\tattr_y_eval\n",
      "\t\t Value: ('disp',)\n",
      "\teval_dict\n",
      "\t\t Value: {'ML': ['MSE_avg', 'MAE_avg'], 'Physics': ['max_stress', 'max_deflection']}\n",
      "\teval_crit_args\n",
      "\t\t Value: {}\n",
      "\n"
     ]
    }
   ],
   "source": [
    "wheel_config=ConfigManager(path=CONFIG_PATH_BENCHMARK,\n",
    "                              section_name=\"WeightSustainingWheelBenchmarkRegular\")\n",
    "\n",
    "print(wheel_config)"
   ]
  },
  {
   "cell_type": "code",
   "execution_count": 6,
   "id": "3df6bc46",
   "metadata": {},
   "outputs": [],
   "source": [
    "env_params=wheel_config.get_option(\"env_params\")\n",
    "physical_domain=env_params.get(\"physical_domain\")\n",
    "physical_properties=env_params.get(\"physical_properties\")\n",
    "simulator=GetfemSimulator(physical_domain=physical_domain,physical_properties=physical_properties)"
   ]
  },
  {
   "cell_type": "markdown",
   "id": "a1961887",
   "metadata": {},
   "source": [
    "# Sampler generation"
   ]
  },
  {
   "cell_type": "code",
   "execution_count": 7,
   "id": "7fcb8a8c",
   "metadata": {},
   "outputs": [
    {
     "name": "stdout",
     "output_type": "stream",
     "text": [
      "Type of sampling: LHSSampler\n",
      "Parameters\n",
      "\tForce: (10000.0, 10000000.0)\n",
      "\n"
     ]
    }
   ],
   "source": [
    "sampler=wheel_config.get_option(\"sampler\")\n",
    "sampler_input_params=sampler.get(\"sampler_input_params\")\n",
    "sampler_seeds=sampler.get(\"seeds\")\n",
    "sampler_nb_samples=sampler.get(\"nb_samples\")\n",
    "\n",
    "lhs_sampler=LHSSampler(space_params=sampler_input_params)\n",
    "print(lhs_sampler)"
   ]
  },
  {
   "cell_type": "markdown",
   "id": "80e7c453",
   "metadata": {},
   "source": [
    "# Training dataset generation"
   ]
  },
  {
   "cell_type": "code",
   "execution_count": 8,
   "id": "69612ef7",
   "metadata": {},
   "outputs": [
    {
     "name": "stderr",
     "output_type": "stream",
     "text": [
      "\r",
      "train:   0%|                                                                                                                          | 0/21 [00:00<?, ?it/s]"
     ]
    },
    {
     "name": "stdout",
     "output_type": "stream",
     "text": [
      "Solve problem with  4507  dofs\n",
      " iter   0 residual            1\n",
      "step control [       0,       1,1.52588e-05] iter   1 residual      20.9786\n",
      "step control [       0,       1,    0.0625] iter   2 residual       36.997\n",
      "step control [       0,       1,     0.125] iter   3 residual       50.304\n"
     ]
    },
    {
     "name": "stderr",
     "output_type": "stream",
     "text": [
      "\r",
      "train:   5%|█████▍                                                                                                            | 1/21 [00:00<00:07,  2.78it/s]"
     ]
    },
    {
     "name": "stdout",
     "output_type": "stream",
     "text": [
      "step control [       0,       1,       0.5] iter   4 residual      66.5044\n",
      "step control [       0,       1,         1] iter   5 residual       29.689\n",
      "step control [       0,       1,         1] iter   6 residual      12.3367\n",
      "step control [       0,       1,         1] iter   7 residual      1.13715\n",
      "step control [       0,       1,         1] iter   8 residual  2.38451e-06\n",
      "step control [       0,       1,         1] iter   9 residual  9.47207e-07\n",
      "Solve problem with  4507  dofs\n",
      " iter   0 residual            1\n",
      "step control [       0,       1,1.52588e-05] iter   1 residual      20.9789\n"
     ]
    },
    {
     "name": "stderr",
     "output_type": "stream",
     "text": [
      "\r",
      "train:  10%|██████████▊                                                                                                       | 2/21 [00:00<00:04,  3.81it/s]"
     ]
    },
    {
     "name": "stdout",
     "output_type": "stream",
     "text": [
      "step control [       0,       1,       0.5] iter   2 residual      26.5338\n",
      "step control [       0,       1,         1] iter   3 residual      17.3392\n",
      "step control [       0,       1,         1] iter   4 residual      4.53917\n",
      "step control [       0,       1,         1] iter   5 residual        1.668\n",
      "step control [       0,       1,         1] iter   6 residual   8.2592e-08\n",
      "Solve problem with  4507  dofs\n",
      " iter   0 residual            1\n",
      "step control [       0,       1,1.52588e-05] iter   1 residual      20.9788\n",
      "step control [       0,       1,       0.5] iter   2 residual      37.9528\n"
     ]
    },
    {
     "name": "stderr",
     "output_type": "stream",
     "text": [
      "\r",
      "train:  14%|████████████████▎                                                                                                 | 3/21 [00:00<00:04,  4.32it/s]"
     ]
    },
    {
     "name": "stdout",
     "output_type": "stream",
     "text": [
      "step control [       0,       1,         1] iter   3 residual      23.9879\n",
      "step control [       0,       1,         1] iter   4 residual      5.58021\n",
      "step control [       0,       1,         1] iter   5 residual      1.80673\n",
      "step control [       0,       1,         1] iter   6 residual  4.65552e-08\n",
      "Solve problem with  4507  dofs\n",
      " iter   0 residual            1\n",
      "step control [       0,       1,1.52588e-05] iter   1 residual      20.9789\n",
      "step control [       0,       1,         1] iter   2 residual      31.5186\n",
      "step control [       0,       1,         1] iter   3 residual      9.85915\n",
      "step control [       0,       1,         1] iter   4 residual      3.43225\n"
     ]
    },
    {
     "name": "stderr",
     "output_type": "stream",
     "text": [
      "train:  24%|███████████████████████████▏                                                                                      | 5/21 [00:01<00:03,  5.16it/s]"
     ]
    },
    {
     "name": "stdout",
     "output_type": "stream",
     "text": [
      "step control [       0,       1,         1] iter   5 residual      1.04902\n",
      "step control [       0,       1,         1] iter   6 residual  1.56469e-08\n",
      "Solve problem with  4507  dofs\n",
      " iter   0 residual            1\n",
      "step control [       0,       1,1.52588e-05] iter   1 residual      20.9788\n",
      "step control [       0,       1,      0.25] iter   2 residual      31.2758\n",
      "step control [       0,       1,         1] iter   3 residual       37.491\n",
      "step control [       0,       1,         1] iter   4 residual      11.0102\n",
      "step control [       0,       1,         1] iter   5 residual      1.02372\n",
      "step control [       0,       1,         1] iter   6 residual  2.68554e-07\n",
      "Solve problem with  4507  dofs\n"
     ]
    },
    {
     "name": "stderr",
     "output_type": "stream",
     "text": [
      "\r",
      "train:  29%|████████████████████████████████▌                                                                                 | 6/21 [00:01<00:02,  5.16it/s]"
     ]
    },
    {
     "name": "stdout",
     "output_type": "stream",
     "text": [
      " iter   0 residual            1\n",
      "step control [       0,       1,1.52588e-05] iter   1 residual      20.9788\n",
      "step control [       0,       1,     0.125] iter   2 residual      27.4192\n",
      "step control [       0,       1,       0.5] iter   3 residual      45.5483\n",
      "step control [       0,       1,         1] iter   4 residual      26.1756\n",
      "step control [       0,       1,         1] iter   5 residual      7.85428\n",
      "step control [       0,       1,         1] iter   6 residual      2.21357\n",
      "step control [       0,       1,         1] iter   7 residual   7.7168e-08\n",
      "Solve problem with  4507  dofs\n",
      " iter   0 residual            1\n"
     ]
    },
    {
     "name": "stderr",
     "output_type": "stream",
     "text": [
      "\r",
      "train:  33%|██████████████████████████████████████                                                                            | 7/21 [00:01<00:02,  5.41it/s]"
     ]
    },
    {
     "name": "stdout",
     "output_type": "stream",
     "text": [
      "step control [       0,       1,1.52588e-05] iter   1 residual      20.9789\n",
      "step control [       0,       1,         1] iter   2 residual      33.9036\n",
      "step control [       0,       1,         1] iter   3 residual      10.6698\n",
      "step control [       0,       1,         1] iter   4 residual      3.77866\n",
      "step control [       0,       1,         1] iter   5 residual      1.24273\n",
      "step control [       0,       1,         1] iter   6 residual  3.65972e-08\n",
      "Solve problem with  4507  dofs\n",
      " iter   0 residual            1\n",
      "step control [       0,       1,1.52588e-05] iter   1 residual      20.9788\n",
      "step control [       0,       1,     0.125] iter   2 residual      29.3308\n"
     ]
    },
    {
     "name": "stderr",
     "output_type": "stream",
     "text": [
      "\r",
      "train:  38%|███████████████████████████████████████████▍                                                                      | 8/21 [00:01<00:02,  5.33it/s]"
     ]
    },
    {
     "name": "stdout",
     "output_type": "stream",
     "text": [
      "step control [       0,       1,      0.25] iter   3 residual      38.8164\n",
      "step control [       0,       1,         1] iter   4 residual      30.2217\n",
      "step control [       0,       1,         1] iter   5 residual      9.26082\n",
      "step control [       0,       1,         1] iter   6 residual      2.84527\n",
      "step control [       0,       1,         1] iter   7 residual  2.43255e-07\n",
      "Solve problem with  4507  dofs\n",
      " iter   0 residual            1\n",
      "step control [       0,       1,1.52588e-05] iter   1 residual      20.9787\n",
      "step control [       0,       1,     0.125] iter   2 residual      34.9796\n",
      "step control [       0,       1,       0.5] iter   3 residual      55.9344\n"
     ]
    },
    {
     "name": "stderr",
     "output_type": "stream",
     "text": [
      "\r",
      "train:  43%|████████████████████████████████████████████████▊                                                                 | 9/21 [00:01<00:02,  4.72it/s]"
     ]
    },
    {
     "name": "stdout",
     "output_type": "stream",
     "text": [
      "step control [       0,       1,         1] iter   4 residual      25.8597\n",
      "step control [       0,       1,         1] iter   5 residual      4.70369\n",
      "step control [       0,       1,         1] iter   6 residual  1.59793e-06\n",
      "step control [       0,       1,         1] iter   7 residual  1.27553e-12\n",
      "Solve problem with  4507  dofs\n",
      " iter   0 residual            1\n",
      "step control [       0,       1,1.52588e-05] iter   1 residual      20.9764\n",
      "step control [       0,       1, 0.0078125] iter   2 residual      37.5375\n",
      "step control [       0,       1,  0.015625] iter   3 residual       57.465\n",
      "step control [       0,       1,   0.03125] iter   4 residual      78.1644\n",
      "step control [       0,       1,     0.125] iter   5 residual      101.347\n",
      "step control [       0,       1,       0.5] iter   6 residual      129.753\n",
      "step control [       0,       1,         1] iter   7 residual      65.2343\n",
      "step control [       0,       1,         1] iter   8 residual      6.49568\n",
      "step control [       0,       1,         1] iter   9 residual     0.235075\n",
      "step control [       0,       1,1.52588e-05] iter  10 residual     0.251099\n",
      "step control [       0,       1,1.52588e-05] iter  11 residual     0.264494\n",
      "step control [       0,       1,1.52588e-05] iter  12 residual     0.278439\n",
      "step control [       0,       1,3.05176e-05] iter  13 residual     0.303623\n",
      "step control [       0,       1,3.05176e-05] iter  14 residual     0.321762\n"
     ]
    },
    {
     "name": "stderr",
     "output_type": "stream",
     "text": [
      "\r",
      "train:  48%|█████████████████████████████████████████████████████▊                                                           | 10/21 [00:02<00:03,  2.79it/s]"
     ]
    },
    {
     "name": "stdout",
     "output_type": "stream",
     "text": [
      "step control [       0,       1,6.10352e-05] iter  15 residual      0.34286\n",
      "step control [       0,       1,0.00012207] iter  16 residual     0.365024\n",
      "step control [       0,       1,0.000244141] iter  17 residual     0.385039\n",
      "step control [       0,       1,         1] iter  18 residual     0.020667\n",
      "step control [       0,       1,         1] iter  19 residual   0.00277132\n",
      "step control [       0,       1,         1] iter  20 residual  5.53564e-05\n",
      "step control [       0,       1,         1] iter  21 residual  2.25869e-12\n",
      "Solve problem with  4507  dofs\n",
      " iter   0 residual            1\n"
     ]
    },
    {
     "name": "stderr",
     "output_type": "stream",
     "text": [
      "\r",
      "train:  52%|███████████████████████████████████████████████████████████▏                                                     | 11/21 [00:02<00:02,  3.34it/s]"
     ]
    },
    {
     "name": "stdout",
     "output_type": "stream",
     "text": [
      "step control [       0,       1,1.52588e-05] iter   1 residual      20.9789\n",
      "step control [       0,       1,         1] iter   2 residual      32.3637\n",
      "step control [       0,       1,         1] iter   3 residual      10.1464\n",
      "step control [       0,       1,         1] iter   4 residual        3.555\n",
      "step control [       0,       1,         1] iter   5 residual      1.11766\n",
      "step control [       0,       1,         1] iter   6 residual  2.30708e-08\n",
      "Solve problem with  4507  dofs\n",
      " iter   0 residual            1\n",
      "step control [       0,       1,1.52588e-05] iter   1 residual      20.9787\n",
      "step control [       0,       1,    0.0625] iter   2 residual      28.6151\n"
     ]
    },
    {
     "name": "stderr",
     "output_type": "stream",
     "text": [
      "\r",
      "train:  57%|████████████████████████████████████████████████████████████████▌                                                | 12/21 [00:02<00:02,  3.64it/s]"
     ]
    },
    {
     "name": "stdout",
     "output_type": "stream",
     "text": [
      "step control [       0,       1,     0.125] iter   3 residual      39.0626\n",
      "step control [       0,       1,       0.5] iter   4 residual      57.0765\n",
      "step control [       0,       1,         1] iter   5 residual      33.8542\n",
      "step control [       0,       1,         1] iter   6 residual      6.72903\n",
      "step control [       0,       1,         1] iter   7 residual   2.2568e-06\n",
      "step control [       0,       1,         1] iter   8 residual  1.47803e-12\n",
      "Solve problem with  4507  dofs\n",
      " iter   0 residual            1\n",
      "step control [       0,       1,1.52588e-05] iter   1 residual      20.9789\n",
      "step control [       0,       1,       0.5] iter   2 residual      32.2991\n"
     ]
    },
    {
     "name": "stderr",
     "output_type": "stream",
     "text": [
      "\r",
      "train:  62%|█████████████████████████████████████████████████████████████████████▉                                           | 13/21 [00:03<00:01,  4.10it/s]"
     ]
    },
    {
     "name": "stdout",
     "output_type": "stream",
     "text": [
      "step control [       0,       1,         1] iter   3 residual      19.4057\n",
      "step control [       0,       1,         1] iter   4 residual      4.30536\n",
      "step control [       0,       1,         1] iter   5 residual      1.15849\n",
      "step control [       0,       1,         1] iter   6 residual  2.44586e-09\n",
      "Solve problem with  4507  dofs\n",
      " iter   0 residual            1\n",
      "step control [       0,       1,1.52588e-05] iter   1 residual      20.9789\n",
      "step control [       0,       1,       0.5] iter   2 residual       34.478\n",
      "step control [       0,       1,         1] iter   3 residual      21.1743\n",
      "step control [       0,       1,         1] iter   4 residual      4.79771\n"
     ]
    },
    {
     "name": "stderr",
     "output_type": "stream",
     "text": [
      "train:  71%|████████████████████████████████████████████████████████████████████████████████▋                                | 15/21 [00:03<00:01,  4.89it/s]"
     ]
    },
    {
     "name": "stdout",
     "output_type": "stream",
     "text": [
      "step control [       0,       1,         1] iter   5 residual        1.408\n",
      "step control [       0,       1,         1] iter   6 residual  3.71957e-08\n",
      "Solve problem with  4507  dofs\n",
      " iter   0 residual            1\n",
      "step control [       0,       1,1.52588e-05] iter   1 residual      20.9789\n",
      "step control [       0,       1,       0.5] iter   2 residual      27.5696\n",
      "step control [       0,       1,         1] iter   3 residual      18.3184\n",
      "step control [       0,       1,         1] iter   4 residual      4.84604\n",
      "step control [       0,       1,         1] iter   5 residual       1.8396\n",
      "step control [       0,       1,         1] iter   6 residual  1.01151e-07\n",
      "Solve problem with  4507  dofs\n"
     ]
    },
    {
     "name": "stderr",
     "output_type": "stream",
     "text": [
      "\r",
      "train:  76%|██████████████████████████████████████████████████████████████████████████████████████                           | 16/21 [00:03<00:00,  5.18it/s]"
     ]
    },
    {
     "name": "stdout",
     "output_type": "stream",
     "text": [
      " iter   0 residual            1\n",
      "step control [       0,       1,1.52588e-05] iter   1 residual      20.9788\n",
      "step control [       0,       1,      0.25] iter   2 residual      28.5555\n",
      "step control [       0,       1,         1] iter   3 residual      36.9282\n",
      "step control [       0,       1,         1] iter   4 residual      12.2216\n",
      "step control [       0,       1,         1] iter   5 residual      2.32759\n",
      "step control [       0,       1,         1] iter   6 residual  7.85581e-07\n",
      "Solve problem with  4507  dofs\n",
      " iter   0 residual            1\n"
     ]
    },
    {
     "name": "stderr",
     "output_type": "stream",
     "text": [
      "\r",
      "train:  81%|███████████████████████████████████████████████████████████████████████████████████████████▍                     | 17/21 [00:03<00:00,  5.43it/s]"
     ]
    },
    {
     "name": "stdout",
     "output_type": "stream",
     "text": [
      "step control [       0,       1,1.52588e-05] iter   1 residual      20.9789\n",
      "step control [       0,       1,         1] iter   2 residual      35.6017\n",
      "step control [       0,       1,         1] iter   3 residual      11.2469\n",
      "step control [       0,       1,         1] iter   4 residual       4.0253\n",
      "step control [       0,       1,         1] iter   5 residual      1.38065\n",
      "step control [       0,       1,         1] iter   6 residual  5.15137e-08\n",
      "Solve problem with  4507  dofs\n",
      " iter   0 residual            1\n",
      "step control [       0,       1,1.52588e-05] iter   1 residual      20.9789\n",
      "step control [       0,       1,       0.5] iter   2 residual      29.4305\n"
     ]
    },
    {
     "name": "stderr",
     "output_type": "stream",
     "text": [
      "\r",
      "train:  86%|████████████████████████████████████████████████████████████████████████████████████████████████▊                | 18/21 [00:03<00:00,  5.59it/s]"
     ]
    },
    {
     "name": "stdout",
     "output_type": "stream",
     "text": [
      "step control [       0,       1,         1] iter   3 residual      20.0777\n",
      "step control [       0,       1,         1] iter   4 residual      5.41084\n",
      "step control [       0,       1,         1] iter   5 residual  9.53106e-05\n",
      "step control [       0,       1,         1] iter   6 residual  3.51021e-07\n",
      "Solve problem with  4507  dofs\n",
      " iter   0 residual            1\n",
      "step control [       0,       1,1.52588e-05] iter   1 residual      20.9788\n",
      "step control [       0,       1,      0.25] iter   2 residual      29.8637\n",
      "step control [       0,       1,         1] iter   3 residual      34.7488\n",
      "step control [       0,       1,         1] iter   4 residual       10.126\n"
     ]
    },
    {
     "name": "stderr",
     "output_type": "stream",
     "text": [
      "train:  95%|███████████████████████████████████████████████████████████████████████████████████████████████████████████▌     | 20/21 [00:04<00:00,  5.76it/s]"
     ]
    },
    {
     "name": "stdout",
     "output_type": "stream",
     "text": [
      "step control [       0,       1,         1] iter   5 residual     0.817467\n",
      "step control [       0,       1,         1] iter   6 residual  8.99898e-07\n",
      "Solve problem with  4507  dofs\n",
      " iter   0 residual            1\n",
      "step control [       0,       1,1.52588e-05] iter   1 residual      20.9788\n",
      "step control [       0,       1,      0.25] iter   2 residual      33.9878\n",
      "step control [       0,       1,         1] iter   3 residual       42.716\n",
      "step control [       0,       1,         1] iter   4 residual       12.716\n",
      "step control [       0,       1,         1] iter   5 residual      1.42783\n",
      "step control [       0,       1,         1] iter   6 residual  2.46048e-07\n",
      "Solve problem with  4507  dofs\n"
     ]
    },
    {
     "name": "stderr",
     "output_type": "stream",
     "text": [
      "train: 100%|█████████████████████████████████████████████████████████████████████████████████████████████████████████████████| 21/21 [00:04<00:00,  4.68it/s]\n"
     ]
    },
    {
     "name": "stdout",
     "output_type": "stream",
     "text": [
      " iter   0 residual            1\n",
      "step control [       0,       1,1.52588e-05] iter   1 residual      20.9789\n",
      "step control [       0,       1,       0.5] iter   2 residual      30.5651\n",
      "step control [       0,       1,         1] iter   3 residual      21.1475\n",
      "step control [       0,       1,         1] iter   4 residual      5.75506\n",
      "step control [       0,       1,         1] iter   5 residual  0.000108535\n",
      "step control [       0,       1,         1] iter   6 residual  3.80886e-07\n"
     ]
    }
   ],
   "source": [
    "attr_names=(PFN.displacement,)\n",
    "DATA_PATH=\"WeightSustainingWheelBenchmarkRegular\"\n",
    "\n",
    "pneumatic_wheel_dataset_train=SamplerStaticWheelDataSet(\"train\",attr_names=attr_names,config=wheel_config)\n",
    "pneumatic_wheel_dataset_train.generate(simulator=simulator,\n",
    "                                    actor=lhs_sampler,\n",
    "                                    nb_samples=sampler_nb_samples.get(\"train\"),\n",
    "                                    actor_seed=sampler_seeds.get(\"train\"),\n",
    "                                    path_out=DATA_PATH\n",
    "                                    )"
   ]
  },
  {
   "cell_type": "code",
   "execution_count": 9,
   "id": "4e63c3d3",
   "metadata": {},
   "outputs": [
    {
     "name": "stderr",
     "output_type": "stream",
     "text": [
      "\r",
      "val:   0%|                                                                                                                             | 0/6 [00:00<?, ?it/s]"
     ]
    },
    {
     "name": "stdout",
     "output_type": "stream",
     "text": [
      "Solve problem with  4507  dofs\n",
      " iter   0 residual            1\n",
      "step control [       0,       1,1.52588e-05] iter   1 residual      20.9671\n",
      "step control [       0,       1,0.000976562] iter   2 residual      29.1644\n",
      "step control [       0,       1,0.00195312] iter   3 residual      42.1476\n",
      "step control [       0,       1,0.00390625] iter   4 residual      57.9123\n",
      "step control [       0,       1,  0.015625] iter   5 residual      83.7165\n",
      "step control [       0,       1,   0.03125] iter   6 residual      109.911\n"
     ]
    },
    {
     "name": "stderr",
     "output_type": "stream",
     "text": [
      "\r",
      "val:  17%|███████████████████▌                                                                                                 | 1/6 [00:00<00:01,  3.22it/s]"
     ]
    },
    {
     "name": "stdout",
     "output_type": "stream",
     "text": [
      "step control [       0,       1,    0.0625] iter   7 residual      119.128\n",
      "step control [       0,       1,       0.5] iter   8 residual      115.536\n",
      "step control [       0,       1,         1] iter   9 residual   0.00539164\n",
      "step control [       0,       1,         1] iter  10 residual  0.000146727\n",
      "step control [       0,       1,         1] iter  11 residual  7.93245e-07\n",
      "Solve problem with  4507  dofs\n",
      " iter   0 residual            1\n",
      "step control [       0,       1,1.52588e-05] iter   1 residual      20.9787\n",
      "step control [       0,       1,     0.125] iter   2 residual      35.1313\n",
      "step control [       0,       1,       0.5] iter   3 residual      56.2981\n"
     ]
    },
    {
     "name": "stderr",
     "output_type": "stream",
     "text": [
      "\r",
      "val:  33%|███████████████████████████████████████                                                                              | 2/6 [00:00<00:00,  4.16it/s]"
     ]
    },
    {
     "name": "stdout",
     "output_type": "stream",
     "text": [
      "step control [       0,       1,         1] iter   4 residual      26.0528\n",
      "step control [       0,       1,         1] iter   5 residual       4.7526\n",
      "step control [       0,       1,         1] iter   6 residual  1.61384e-06\n",
      "step control [       0,       1,         1] iter   7 residual  1.26762e-12\n",
      "Solve problem with  4507  dofs\n",
      " iter   0 residual            1\n",
      "step control [       0,       1,1.52588e-05] iter   1 residual      20.9789\n",
      "step control [       0,       1,       0.5] iter   2 residual      29.6076\n",
      "step control [       0,       1,         1] iter   3 residual      20.2451\n",
      "step control [       0,       1,         1] iter   4 residual      5.46468\n"
     ]
    },
    {
     "name": "stderr",
     "output_type": "stream",
     "text": [
      "val:  67%|██████████████████████████████████████████████████████████████████████████████                                       | 4/6 [00:00<00:00,  5.17it/s]"
     ]
    },
    {
     "name": "stdout",
     "output_type": "stream",
     "text": [
      "step control [       0,       1,         1] iter   5 residual  9.73791e-05\n",
      "step control [       0,       1,         1] iter   6 residual  3.55693e-07\n",
      "Solve problem with  4507  dofs\n",
      " iter   0 residual            1\n",
      "step control [       0,       1,1.52588e-05] iter   1 residual      20.9789\n",
      "step control [       0,       1,       0.5] iter   2 residual      33.9415\n",
      "step control [       0,       1,         1] iter   3 residual      20.7384\n",
      "step control [       0,       1,         1] iter   4 residual      4.67648\n",
      "step control [       0,       1,         1] iter   5 residual      1.34656\n",
      "step control [       0,       1,         1] iter   6 residual  1.96757e-08\n",
      "Solve problem with  4507  dofs\n"
     ]
    },
    {
     "name": "stderr",
     "output_type": "stream",
     "text": [
      "\r",
      "val:  83%|█████████████████████████████████████████████████████████████████████████████████████████████████▌                   | 5/6 [00:01<00:00,  5.42it/s]"
     ]
    },
    {
     "name": "stdout",
     "output_type": "stream",
     "text": [
      " iter   0 residual            1\n",
      "step control [       0,       1,1.52588e-05] iter   1 residual      20.9788\n",
      "step control [       0,       1,      0.25] iter   2 residual      29.0551\n",
      "step control [       0,       1,         1] iter   3 residual      38.0412\n",
      "step control [       0,       1,         1] iter   4 residual      12.6232\n",
      "step control [       0,       1,         1] iter   5 residual      2.45154\n",
      "step control [       0,       1,         1] iter   6 residual  3.53338e-07\n",
      "Solve problem with  4507  dofs\n",
      " iter   0 residual            1\n"
     ]
    },
    {
     "name": "stderr",
     "output_type": "stream",
     "text": [
      "val: 100%|█████████████████████████████████████████████████████████████████████████████████████████████████████████████████████| 6/6 [00:01<00:00,  5.08it/s]"
     ]
    },
    {
     "name": "stdout",
     "output_type": "stream",
     "text": [
      "step control [       0,       1,1.52588e-05] iter   1 residual      20.9789\n",
      "step control [       0,       1,         1] iter   2 residual      30.4765\n",
      "step control [       0,       1,         1] iter   3 residual      9.50497\n",
      "step control [       0,       1,         1] iter   4 residual       3.2809\n",
      "step control [       0,       1,         1] iter   5 residual     0.966797\n",
      "step control [       0,       1,         1] iter   6 residual  3.14569e-08\n"
     ]
    },
    {
     "name": "stderr",
     "output_type": "stream",
     "text": [
      "\n"
     ]
    }
   ],
   "source": [
    "pneumatic_wheel_dataset_val=SamplerStaticWheelDataSet(\"val\",attr_names=attr_names,config=wheel_config)\n",
    "pneumatic_wheel_dataset_val.generate(simulator=simulator,\n",
    "                                    actor=lhs_sampler,\n",
    "                                    nb_samples=sampler_nb_samples.get(\"val\"),\n",
    "                                    actor_seed=sampler_seeds.get(\"val\"),\n",
    "                                    path_out=DATA_PATH\n",
    "                                    )"
   ]
  },
  {
   "cell_type": "code",
   "execution_count": 10,
   "id": "7345617e",
   "metadata": {},
   "outputs": [
    {
     "name": "stderr",
     "output_type": "stream",
     "text": [
      "\r",
      "test:   0%|                                                                                                                            | 0/3 [00:00<?, ?it/s]"
     ]
    },
    {
     "name": "stdout",
     "output_type": "stream",
     "text": [
      "Solve problem with  4507  dofs\n",
      " iter   0 residual            1\n",
      "step control [       0,       1,1.52588e-05] iter   1 residual      20.9712\n",
      "step control [       0,       1,0.00195312] iter   2 residual      32.8816\n",
      "step control [       0,       1,0.00390625] iter   3 residual      50.6363\n",
      "step control [       0,       1, 0.0078125] iter   4 residual      66.5562\n",
      "step control [       0,       1,   0.03125] iter   5 residual       88.868\n",
      "step control [       0,       1,    0.0625] iter   6 residual      105.196\n",
      "step control [       0,       1,      0.25] iter   7 residual       110.37\n",
      "step control [       0,       1,         1] iter   8 residual      28.7376\n",
      "step control [       0,       1,         1] iter   9 residual      6.64699\n",
      "step control [       0,       1,0.00012207] iter  10 residual      6.95113\n",
      "step control [       0,       1,0.00012207] iter  11 residual      7.33883\n",
      "step control [       0,       1,0.00012207] iter  12 residual      7.72088\n",
      "step control [       0,       1,0.00012207] iter  13 residual      8.03613\n",
      "step control [       0,       1,0.000244141] iter  14 residual       8.5851\n",
      "step control [       0,       1,0.000244141] iter  15 residual      8.95492\n",
      "step control [       0,       1,0.000488281] iter  16 residual      9.39931\n",
      "step control [       0,       1,0.000976562] iter  17 residual      9.90984\n",
      "step control [       0,       1,0.00195312] iter  18 residual      10.3092\n",
      "step control [       0,       1,0.00390625] iter  19 residual      10.4767\n",
      "step control [       0,       1,         1] iter  20 residual     0.107081\n"
     ]
    },
    {
     "name": "stderr",
     "output_type": "stream",
     "text": [
      "\r",
      "test:  33%|██████████████████████████████████████▋                                                                             | 1/3 [00:00<00:01,  1.50it/s]"
     ]
    },
    {
     "name": "stdout",
     "output_type": "stream",
     "text": [
      "step control [       0,       1,         1] iter  21 residual   0.00198383\n",
      "step control [       0,       1,         1] iter  22 residual  2.69813e-12\n",
      "Solve problem with  4507  dofs\n",
      " iter   0 residual            1\n"
     ]
    },
    {
     "name": "stderr",
     "output_type": "stream",
     "text": [
      "\r",
      "test:  67%|█████████████████████████████████████████████████████████████████████████████▎                                      | 2/3 [00:00<00:00,  2.66it/s]"
     ]
    },
    {
     "name": "stdout",
     "output_type": "stream",
     "text": [
      "step control [       0,       1,1.52588e-05] iter   1 residual      20.9788\n",
      "step control [       0,       1,      0.25] iter   2 residual      33.2027\n",
      "step control [       0,       1,         1] iter   3 residual      41.2067\n",
      "step control [       0,       1,         1] iter   4 residual      12.2216\n",
      "step control [       0,       1,         1] iter   5 residual      1.30682\n",
      "step control [       0,       1,         1] iter   6 residual  2.43832e-07\n",
      "Solve problem with  4507  dofs\n",
      " iter   0 residual            1\n",
      "step control [       0,       1,1.52588e-05] iter   1 residual      20.9789\n",
      "step control [       0,       1,         1] iter   2 residual      36.2175\n"
     ]
    },
    {
     "name": "stderr",
     "output_type": "stream",
     "text": [
      "test: 100%|████████████████████████████████████████████████████████████████████████████████████████████████████████████████████| 3/3 [00:01<00:00,  2.98it/s]"
     ]
    },
    {
     "name": "stdout",
     "output_type": "stream",
     "text": [
      "step control [       0,       1,         1] iter   3 residual      11.4563\n",
      "step control [       0,       1,         1] iter   4 residual      4.11474\n",
      "step control [       0,       1,         1] iter   5 residual      1.43066\n",
      "step control [       0,       1,         1] iter   6 residual   5.6923e-08\n"
     ]
    },
    {
     "name": "stderr",
     "output_type": "stream",
     "text": [
      "\n"
     ]
    }
   ],
   "source": [
    "pneumatic_wheel_dataset_test=SamplerStaticWheelDataSet(\"test\",attr_names=attr_names,config=wheel_config)\n",
    "pneumatic_wheel_dataset_test.generate(simulator=simulator,\n",
    "                                    actor=lhs_sampler,\n",
    "                                    nb_samples=sampler_nb_samples.get(\"test\"),\n",
    "                                    actor_seed=sampler_seeds.get(\"test\"),\n",
    "                                    path_out=DATA_PATH\n",
    "                                    )"
   ]
  },
  {
   "cell_type": "markdown",
   "id": "8f4728a8",
   "metadata": {},
   "source": [
    "# Start training with FC architecture"
   ]
  },
  {
   "cell_type": "code",
   "execution_count": 11,
   "id": "5464d437",
   "metadata": {},
   "outputs": [
    {
     "name": "stdout",
     "output_type": "stream",
     "text": [
      "Warning: path_config (/home/ddanan/HSAProject/LIPSPlatform/LIPS_Github/LIPS/lips/config/conf.ini) file not found\n"
     ]
    }
   ],
   "source": [
    "LOG_PATH=\"WeightSustainingFFNN.log\"\n",
    "CONFIG_PATH_AUGMENTED_SIMULATOR_FC=\"/home/ddanan/HSAProject/LIPSPlatform/LIPS_Github/LIPS/configurations/pneumatic/simulators/torch_fc.ini\"\n",
    "DATA_PATH=\".\"\n",
    "\n",
    "benchmark_ffnn = WeightSustainingWheelBenchmark(benchmark_name=\"WeightSustainingWheelBenchmarkRegular\",\n",
    "                                benchmark_path=DATA_PATH,\n",
    "                                load_data_set=True,\n",
    "                                log_path=LOG_PATH,\n",
    "                                config_path=CONFIG_PATH_BENCHMARK\n",
    "                               )\n",
    "\n",
    "torch_sim = TorchSimulator(name=\"torch_ffnn\",\n",
    "                           model=TorchFullyConnected,\n",
    "                           scaler=StandardScaler,\n",
    "                           log_path=LOG_PATH,\n",
    "                           seed=42,\n",
    "                           architecture_type=\"Classical\",\n",
    "                          )\n",
    "\n",
    "SAVE_PATH=\"/home/ddanan/HSAProject/LIPSPlatform/LIPS_Github/LIPS/getting_started/TestBenchmarkWheel/FFNNResults\"\n",
    "torch_sim_config=ConfigManager(path=CONFIG_PATH_AUGMENTED_SIMULATOR_FC,\n",
    "                              section_name=\"CONFIGWHEELSUSTAIN\")"
   ]
  },
  {
   "cell_type": "code",
   "execution_count": 12,
   "id": "62416578",
   "metadata": {},
   "outputs": [
    {
     "name": "stdout",
     "output_type": "stream",
     "text": [
      "Train Epoch: 1   Avg_Loss: 0.49115 ['MAELoss: 0.43558']\n",
      "Eval:   Avg_Loss: 0.72960 ['MAELoss: 0.51004']\n",
      "Train Epoch: 2   Avg_Loss: 0.48934 ['MAELoss: 0.43368']\n",
      "Eval:   Avg_Loss: 0.72745 ['MAELoss: 0.50852']\n",
      "Train Epoch: 3   Avg_Loss: 0.48762 ['MAELoss: 0.43219']\n",
      "Eval:   Avg_Loss: 0.72507 ['MAELoss: 0.50719']\n",
      "Train Epoch: 4   Avg_Loss: 0.48573 ['MAELoss: 0.43088']\n",
      "Eval:   Avg_Loss: 0.72232 ['MAELoss: 0.50589']\n",
      "Train Epoch: 5   Avg_Loss: 0.48353 ['MAELoss: 0.42960']\n",
      "Eval:   Avg_Loss: 0.71893 ['MAELoss: 0.50450']\n",
      "Train Epoch: 6   Avg_Loss: 0.48085 ['MAELoss: 0.42822']\n",
      "Eval:   Avg_Loss: 0.71490 ['MAELoss: 0.50294']\n",
      "Train Epoch: 7   Avg_Loss: 0.47763 ['MAELoss: 0.42668']\n",
      "Eval:   Avg_Loss: 0.71006 ['MAELoss: 0.50112']\n",
      "Train Epoch: 8   Avg_Loss: 0.47379 ['MAELoss: 0.42491']\n",
      "Eval:   Avg_Loss: 0.70429 ['MAELoss: 0.49897']\n",
      "Train Epoch: 9   Avg_Loss: 0.46922 ['MAELoss: 0.42282']\n",
      "Eval:   Avg_Loss: 0.69748 ['MAELoss: 0.49645']\n",
      "Train Epoch: 10   Avg_Loss: 0.46384 ['MAELoss: 0.42040']\n",
      "Eval:   Avg_Loss: 0.68945 ['MAELoss: 0.49351']\n",
      "Train Epoch: 11   Avg_Loss: 0.45754 ['MAELoss: 0.41757']\n",
      "Eval:   Avg_Loss: 0.68008 ['MAELoss: 0.49007']\n",
      "Train Epoch: 12   Avg_Loss: 0.45020 ['MAELoss: 0.41427']\n",
      "Eval:   Avg_Loss: 0.66918 ['MAELoss: 0.48602']\n",
      "Train Epoch: 13   Avg_Loss: 0.44169 ['MAELoss: 0.41041']\n",
      "Eval:   Avg_Loss: 0.65657 ['MAELoss: 0.48124']\n",
      "Train Epoch: 14   Avg_Loss: 0.43190 ['MAELoss: 0.40587']\n",
      "Eval:   Avg_Loss: 0.64212 ['MAELoss: 0.47559']\n",
      "Train Epoch: 15   Avg_Loss: 0.42072 ['MAELoss: 0.40054']\n",
      "Eval:   Avg_Loss: 0.62563 ['MAELoss: 0.46891']\n",
      "Train Epoch: 16   Avg_Loss: 0.40803 ['MAELoss: 0.39426']\n",
      "Eval:   Avg_Loss: 0.60694 ['MAELoss: 0.46101']\n",
      "Train Epoch: 17   Avg_Loss: 0.39370 ['MAELoss: 0.38685']\n",
      "Eval:   Avg_Loss: 0.58596 ['MAELoss: 0.45172']\n",
      "Train Epoch: 18   Avg_Loss: 0.37770 ['MAELoss: 0.37814']\n",
      "Eval:   Avg_Loss: 0.56256 ['MAELoss: 0.44084']\n",
      "Train Epoch: 19   Avg_Loss: 0.35996 ['MAELoss: 0.36792']\n",
      "Eval:   Avg_Loss: 0.53671 ['MAELoss: 0.42825']\n",
      "Train Epoch: 20   Avg_Loss: 0.34055 ['MAELoss: 0.35609']\n",
      "Eval:   Avg_Loss: 0.50847 ['MAELoss: 0.41394']\n",
      "Train Epoch: 21   Avg_Loss: 0.31953 ['MAELoss: 0.34259']\n",
      "Eval:   Avg_Loss: 0.47794 ['MAELoss: 0.39792']\n",
      "Train Epoch: 22   Avg_Loss: 0.29709 ['MAELoss: 0.32739']\n",
      "Eval:   Avg_Loss: 0.44544 ['MAELoss: 0.38034']\n",
      "Train Epoch: 23   Avg_Loss: 0.27359 ['MAELoss: 0.31066']\n",
      "Eval:   Avg_Loss: 0.41140 ['MAELoss: 0.36161']\n",
      "Train Epoch: 24   Avg_Loss: 0.24950 ['MAELoss: 0.29298']\n",
      "Eval:   Avg_Loss: 0.37652 ['MAELoss: 0.34251']\n",
      "Train Epoch: 25   Avg_Loss: 0.22553 ['MAELoss: 0.27522']\n",
      "Eval:   Avg_Loss: 0.34167 ['MAELoss: 0.32368']\n",
      "Train Epoch: 26   Avg_Loss: 0.20255 ['MAELoss: 0.25837']\n",
      "Eval:   Avg_Loss: 0.30786 ['MAELoss: 0.30584']\n",
      "Train Epoch: 27   Avg_Loss: 0.18150 ['MAELoss: 0.24351']\n",
      "Eval:   Avg_Loss: 0.27610 ['MAELoss: 0.28990']\n",
      "Train Epoch: 28   Avg_Loss: 0.16323 ['MAELoss: 0.23151']\n",
      "Eval:   Avg_Loss: 0.24703 ['MAELoss: 0.27554']\n",
      "Train Epoch: 29   Avg_Loss: 0.14815 ['MAELoss: 0.22239']\n",
      "Eval:   Avg_Loss: 0.22080 ['MAELoss: 0.26252']\n",
      "Train Epoch: 30   Avg_Loss: 0.13604 ['MAELoss: 0.21574']\n",
      "Eval:   Avg_Loss: 0.19727 ['MAELoss: 0.25067']\n",
      "Train Epoch: 31   Avg_Loss: 0.12622 ['MAELoss: 0.21064']\n",
      "Eval:   Avg_Loss: 0.17638 ['MAELoss: 0.23948']\n",
      "Train Epoch: 32   Avg_Loss: 0.11799 ['MAELoss: 0.20593']\n",
      "Eval:   Avg_Loss: 0.15808 ['MAELoss: 0.22833']\n",
      "Train Epoch: 33   Avg_Loss: 0.11068 ['MAELoss: 0.20087']\n",
      "Eval:   Avg_Loss: 0.14200 ['MAELoss: 0.21703']\n",
      "Train Epoch: 34   Avg_Loss: 0.10342 ['MAELoss: 0.19460']\n",
      "Eval:   Avg_Loss: 0.12746 ['MAELoss: 0.20527']\n",
      "Train Epoch: 35   Avg_Loss: 0.09536 ['MAELoss: 0.18635']\n",
      "Eval:   Avg_Loss: 0.11388 ['MAELoss: 0.19286']\n",
      "Train Epoch: 36   Avg_Loss: 0.08615 ['MAELoss: 0.17589']\n",
      "Eval:   Avg_Loss: 0.10129 ['MAELoss: 0.18015']\n",
      "Train Epoch: 37   Avg_Loss: 0.07613 ['MAELoss: 0.16368']\n",
      "Eval:   Avg_Loss: 0.09017 ['MAELoss: 0.16828']\n",
      "Train Epoch: 38   Avg_Loss: 0.06605 ['MAELoss: 0.15090']\n",
      "Eval:   Avg_Loss: 0.08110 ['MAELoss: 0.15828']\n",
      "Train Epoch: 39   Avg_Loss: 0.05676 ['MAELoss: 0.13895']\n",
      "Eval:   Avg_Loss: 0.07451 ['MAELoss: 0.15029']\n",
      "Train Epoch: 40   Avg_Loss: 0.04896 ['MAELoss: 0.12855']\n",
      "Eval:   Avg_Loss: 0.07026 ['MAELoss: 0.14405']\n",
      "Train Epoch: 41   Avg_Loss: 0.04295 ['MAELoss: 0.11970']\n",
      "Eval:   Avg_Loss: 0.06789 ['MAELoss: 0.13962']\n",
      "Train Epoch: 42   Avg_Loss: 0.03869 ['MAELoss: 0.11260']\n",
      "Eval:   Avg_Loss: 0.06621 ['MAELoss: 0.13680']\n",
      "Train Epoch: 43   Avg_Loss: 0.03563 ['MAELoss: 0.10715']\n",
      "Eval:   Avg_Loss: 0.06409 ['MAELoss: 0.13536']\n",
      "Train Epoch: 44   Avg_Loss: 0.03310 ['MAELoss: 0.10285']\n",
      "Eval:   Avg_Loss: 0.06077 ['MAELoss: 0.13380']\n",
      "Train Epoch: 45   Avg_Loss: 0.03056 ['MAELoss: 0.09896']\n",
      "Eval:   Avg_Loss: 0.05629 ['MAELoss: 0.13091']\n",
      "Train Epoch: 46   Avg_Loss: 0.02785 ['MAELoss: 0.09500']\n",
      "Eval:   Avg_Loss: 0.05090 ['MAELoss: 0.12657']\n",
      "Train Epoch: 47   Avg_Loss: 0.02502 ['MAELoss: 0.09094']\n",
      "Eval:   Avg_Loss: 0.04507 ['MAELoss: 0.12121']\n",
      "Train Epoch: 48   Avg_Loss: 0.02227 ['MAELoss: 0.08709']\n",
      "Eval:   Avg_Loss: 0.03927 ['MAELoss: 0.11544']\n",
      "Train Epoch: 49   Avg_Loss: 0.01980 ['MAELoss: 0.08384']\n",
      "Eval:   Avg_Loss: 0.03393 ['MAELoss: 0.10963']\n",
      "Train Epoch: 50   Avg_Loss: 0.01778 ['MAELoss: 0.08147']\n",
      "Eval:   Avg_Loss: 0.02937 ['MAELoss: 0.10413']\n",
      "Train Epoch: 51   Avg_Loss: 0.01630 ['MAELoss: 0.08007']\n",
      "Eval:   Avg_Loss: 0.02574 ['MAELoss: 0.09907']\n",
      "Train Epoch: 52   Avg_Loss: 0.01530 ['MAELoss: 0.07934']\n",
      "Eval:   Avg_Loss: 0.02299 ['MAELoss: 0.09465']\n",
      "Train Epoch: 53   Avg_Loss: 0.01460 ['MAELoss: 0.07868']\n",
      "Eval:   Avg_Loss: 0.02091 ['MAELoss: 0.09094']\n",
      "Train Epoch: 54   Avg_Loss: 0.01396 ['MAELoss: 0.07760']\n",
      "Eval:   Avg_Loss: 0.01930 ['MAELoss: 0.08780']\n",
      "Train Epoch: 55   Avg_Loss: 0.01318 ['MAELoss: 0.07573']\n",
      "Eval:   Avg_Loss: 0.01805 ['MAELoss: 0.08515']\n",
      "Train Epoch: 56   Avg_Loss: 0.01222 ['MAELoss: 0.07297']\n",
      "Eval:   Avg_Loss: 0.01714 ['MAELoss: 0.08297']\n",
      "Train Epoch: 57   Avg_Loss: 0.01114 ['MAELoss: 0.06954']\n",
      "Eval:   Avg_Loss: 0.01662 ['MAELoss: 0.08140']\n",
      "Train Epoch: 58   Avg_Loss: 0.01010 ['MAELoss: 0.06582']\n",
      "Eval:   Avg_Loss: 0.01647 ['MAELoss: 0.08036']\n",
      "Train Epoch: 59   Avg_Loss: 0.00924 ['MAELoss: 0.06227']\n",
      "Eval:   Avg_Loss: 0.01657 ['MAELoss: 0.07967']\n",
      "Train Epoch: 60   Avg_Loss: 0.00860 ['MAELoss: 0.05927']\n",
      "Eval:   Avg_Loss: 0.01665 ['MAELoss: 0.07892']\n",
      "Train Epoch: 61   Avg_Loss: 0.00812 ['MAELoss: 0.05684']\n",
      "Eval:   Avg_Loss: 0.01643 ['MAELoss: 0.07770']\n",
      "Train Epoch: 62   Avg_Loss: 0.00767 ['MAELoss: 0.05476']\n",
      "Eval:   Avg_Loss: 0.01576 ['MAELoss: 0.07580']\n",
      "Train Epoch: 63   Avg_Loss: 0.00718 ['MAELoss: 0.05279']\n",
      "Eval:   Avg_Loss: 0.01470 ['MAELoss: 0.07326']\n",
      "Train Epoch: 64   Avg_Loss: 0.00663 ['MAELoss: 0.05088']\n",
      "Eval:   Avg_Loss: 0.01338 ['MAELoss: 0.07026']\n",
      "Train Epoch: 65   Avg_Loss: 0.00607 ['MAELoss: 0.04903']\n",
      "Eval:   Avg_Loss: 0.01200 ['MAELoss: 0.06710']\n",
      "Train Epoch: 66   Avg_Loss: 0.00556 ['MAELoss: 0.04734']\n",
      "Eval:   Avg_Loss: 0.01071 ['MAELoss: 0.06396']\n",
      "Train Epoch: 67   Avg_Loss: 0.00513 ['MAELoss: 0.04589']\n",
      "Eval:   Avg_Loss: 0.00964 ['MAELoss: 0.06107']\n",
      "Train Epoch: 68   Avg_Loss: 0.00480 ['MAELoss: 0.04463']\n",
      "Eval:   Avg_Loss: 0.00880 ['MAELoss: 0.05855']\n",
      "Train Epoch: 69   Avg_Loss: 0.00454 ['MAELoss: 0.04346']\n",
      "Eval:   Avg_Loss: 0.00820 ['MAELoss: 0.05647']\n",
      "Train Epoch: 70   Avg_Loss: 0.00429 ['MAELoss: 0.04225']\n",
      "Eval:   Avg_Loss: 0.00779 ['MAELoss: 0.05475']\n",
      "Train Epoch: 71   Avg_Loss: 0.00405 ['MAELoss: 0.04086']\n",
      "Eval:   Avg_Loss: 0.00752 ['MAELoss: 0.05339']\n",
      "Train Epoch: 72   Avg_Loss: 0.00379 ['MAELoss: 0.03930']\n",
      "Eval:   Avg_Loss: 0.00741 ['MAELoss: 0.05236']\n",
      "Train Epoch: 73   Avg_Loss: 0.00356 ['MAELoss: 0.03769']\n",
      "Eval:   Avg_Loss: 0.00740 ['MAELoss: 0.05158']\n",
      "Train Epoch: 74   Avg_Loss: 0.00336 ['MAELoss: 0.03617']\n",
      "Eval:   Avg_Loss: 0.00741 ['MAELoss: 0.05092']\n",
      "Train Epoch: 75   Avg_Loss: 0.00320 ['MAELoss: 0.03488']\n",
      "Eval:   Avg_Loss: 0.00737 ['MAELoss: 0.05030']\n",
      "Train Epoch: 76   Avg_Loss: 0.00308 ['MAELoss: 0.03388']\n",
      "Eval:   Avg_Loss: 0.00724 ['MAELoss: 0.04969']\n",
      "Train Epoch: 77   Avg_Loss: 0.00297 ['MAELoss: 0.03315']\n",
      "Eval:   Avg_Loss: 0.00700 ['MAELoss: 0.04900']\n",
      "Train Epoch: 78   Avg_Loss: 0.00286 ['MAELoss: 0.03259']\n",
      "Eval:   Avg_Loss: 0.00664 ['MAELoss: 0.04819']\n",
      "Train Epoch: 79   Avg_Loss: 0.00275 ['MAELoss: 0.03211']\n",
      "Eval:   Avg_Loss: 0.00624 ['MAELoss: 0.04729']\n"
     ]
    },
    {
     "name": "stdout",
     "output_type": "stream",
     "text": [
      "Train Epoch: 80   Avg_Loss: 0.00264 ['MAELoss: 0.03168']\n",
      "Eval:   Avg_Loss: 0.00585 ['MAELoss: 0.04639']\n",
      "Train Epoch: 81   Avg_Loss: 0.00255 ['MAELoss: 0.03134']\n",
      "Eval:   Avg_Loss: 0.00551 ['MAELoss: 0.04554']\n",
      "Train Epoch: 82   Avg_Loss: 0.00247 ['MAELoss: 0.03103']\n",
      "Eval:   Avg_Loss: 0.00525 ['MAELoss: 0.04484']\n",
      "Train Epoch: 83   Avg_Loss: 0.00241 ['MAELoss: 0.03073']\n",
      "Eval:   Avg_Loss: 0.00508 ['MAELoss: 0.04424']\n",
      "Train Epoch: 84   Avg_Loss: 0.00235 ['MAELoss: 0.03038']\n",
      "Eval:   Avg_Loss: 0.00496 ['MAELoss: 0.04372']\n",
      "Train Epoch: 85   Avg_Loss: 0.00228 ['MAELoss: 0.02991']\n",
      "Eval:   Avg_Loss: 0.00489 ['MAELoss: 0.04326']\n",
      "Train Epoch: 86   Avg_Loss: 0.00222 ['MAELoss: 0.02937']\n",
      "Eval:   Avg_Loss: 0.00486 ['MAELoss: 0.04282']\n",
      "Train Epoch: 87   Avg_Loss: 0.00215 ['MAELoss: 0.02879']\n",
      "Eval:   Avg_Loss: 0.00483 ['MAELoss: 0.04238']\n",
      "Train Epoch: 88   Avg_Loss: 0.00210 ['MAELoss: 0.02824']\n",
      "Eval:   Avg_Loss: 0.00477 ['MAELoss: 0.04189']\n",
      "Train Epoch: 89   Avg_Loss: 0.00205 ['MAELoss: 0.02776']\n",
      "Eval:   Avg_Loss: 0.00467 ['MAELoss: 0.04135']\n",
      "Train Epoch: 90   Avg_Loss: 0.00200 ['MAELoss: 0.02736']\n",
      "Eval:   Avg_Loss: 0.00453 ['MAELoss: 0.04075']\n",
      "Train Epoch: 91   Avg_Loss: 0.00196 ['MAELoss: 0.02701']\n",
      "Eval:   Avg_Loss: 0.00436 ['MAELoss: 0.04010']\n",
      "Train Epoch: 92   Avg_Loss: 0.00191 ['MAELoss: 0.02669']\n",
      "Eval:   Avg_Loss: 0.00419 ['MAELoss: 0.03942']\n",
      "Train Epoch: 93   Avg_Loss: 0.00186 ['MAELoss: 0.02638']\n",
      "Eval:   Avg_Loss: 0.00403 ['MAELoss: 0.03875']\n",
      "Train Epoch: 94   Avg_Loss: 0.00182 ['MAELoss: 0.02605']\n",
      "Eval:   Avg_Loss: 0.00389 ['MAELoss: 0.03810']\n",
      "Train Epoch: 95   Avg_Loss: 0.00178 ['MAELoss: 0.02570']\n",
      "Eval:   Avg_Loss: 0.00379 ['MAELoss: 0.03752']\n",
      "Train Epoch: 96   Avg_Loss: 0.00174 ['MAELoss: 0.02535']\n",
      "Eval:   Avg_Loss: 0.00372 ['MAELoss: 0.03701']\n",
      "Train Epoch: 97   Avg_Loss: 0.00171 ['MAELoss: 0.02500']\n",
      "Eval:   Avg_Loss: 0.00367 ['MAELoss: 0.03655']\n",
      "Train Epoch: 98   Avg_Loss: 0.00167 ['MAELoss: 0.02464']\n",
      "Eval:   Avg_Loss: 0.00365 ['MAELoss: 0.03613']\n",
      "Train Epoch: 99   Avg_Loss: 0.00164 ['MAELoss: 0.02424']\n",
      "Eval:   Avg_Loss: 0.00362 ['MAELoss: 0.03571']\n",
      "Train Epoch: 100   Avg_Loss: 0.00160 ['MAELoss: 0.02385']\n",
      "Eval:   Avg_Loss: 0.00359 ['MAELoss: 0.03527']\n",
      "Train Epoch: 101   Avg_Loss: 0.00157 ['MAELoss: 0.02345']\n",
      "Eval:   Avg_Loss: 0.00354 ['MAELoss: 0.03482']\n",
      "Train Epoch: 102   Avg_Loss: 0.00154 ['MAELoss: 0.02309']\n",
      "Eval:   Avg_Loss: 0.00347 ['MAELoss: 0.03435']\n",
      "Train Epoch: 103   Avg_Loss: 0.00151 ['MAELoss: 0.02278']\n",
      "Eval:   Avg_Loss: 0.00339 ['MAELoss: 0.03388']\n",
      "Train Epoch: 104   Avg_Loss: 0.00148 ['MAELoss: 0.02249']\n",
      "Eval:   Avg_Loss: 0.00330 ['MAELoss: 0.03341']\n",
      "Train Epoch: 105   Avg_Loss: 0.00145 ['MAELoss: 0.02222']\n",
      "Eval:   Avg_Loss: 0.00323 ['MAELoss: 0.03295']\n",
      "Train Epoch: 106   Avg_Loss: 0.00143 ['MAELoss: 0.02196']\n",
      "Eval:   Avg_Loss: 0.00316 ['MAELoss: 0.03251']\n",
      "Train Epoch: 107   Avg_Loss: 0.00140 ['MAELoss: 0.02168']\n",
      "Eval:   Avg_Loss: 0.00311 ['MAELoss: 0.03212']\n",
      "Train Epoch: 108   Avg_Loss: 0.00138 ['MAELoss: 0.02142']\n",
      "Eval:   Avg_Loss: 0.00307 ['MAELoss: 0.03177']\n",
      "Train Epoch: 109   Avg_Loss: 0.00136 ['MAELoss: 0.02117']\n",
      "Eval:   Avg_Loss: 0.00303 ['MAELoss: 0.03143']\n",
      "Train Epoch: 110   Avg_Loss: 0.00134 ['MAELoss: 0.02094']\n",
      "Eval:   Avg_Loss: 0.00300 ['MAELoss: 0.03112']\n",
      "Train Epoch: 111   Avg_Loss: 0.00131 ['MAELoss: 0.02070']\n",
      "Eval:   Avg_Loss: 0.00296 ['MAELoss: 0.03080']\n",
      "Train Epoch: 112   Avg_Loss: 0.00129 ['MAELoss: 0.02045']\n",
      "Eval:   Avg_Loss: 0.00292 ['MAELoss: 0.03048']\n",
      "Train Epoch: 113   Avg_Loss: 0.00127 ['MAELoss: 0.02022']\n",
      "Eval:   Avg_Loss: 0.00287 ['MAELoss: 0.03014']\n",
      "Train Epoch: 114   Avg_Loss: 0.00125 ['MAELoss: 0.02000']\n",
      "Eval:   Avg_Loss: 0.00282 ['MAELoss: 0.02981']\n",
      "Train Epoch: 115   Avg_Loss: 0.00123 ['MAELoss: 0.01981']\n",
      "Eval:   Avg_Loss: 0.00277 ['MAELoss: 0.02949']\n",
      "Train Epoch: 116   Avg_Loss: 0.00121 ['MAELoss: 0.01962']\n",
      "Eval:   Avg_Loss: 0.00272 ['MAELoss: 0.02917']\n",
      "Train Epoch: 117   Avg_Loss: 0.00119 ['MAELoss: 0.01943']\n",
      "Eval:   Avg_Loss: 0.00267 ['MAELoss: 0.02886']\n",
      "Train Epoch: 118   Avg_Loss: 0.00117 ['MAELoss: 0.01925']\n",
      "Eval:   Avg_Loss: 0.00263 ['MAELoss: 0.02855']\n",
      "Train Epoch: 119   Avg_Loss: 0.00116 ['MAELoss: 0.01905']\n",
      "Eval:   Avg_Loss: 0.00259 ['MAELoss: 0.02827']\n",
      "Train Epoch: 120   Avg_Loss: 0.00114 ['MAELoss: 0.01886']\n",
      "Eval:   Avg_Loss: 0.00255 ['MAELoss: 0.02799']\n",
      "Train Epoch: 121   Avg_Loss: 0.00112 ['MAELoss: 0.01869']\n",
      "Eval:   Avg_Loss: 0.00251 ['MAELoss: 0.02771']\n",
      "Train Epoch: 122   Avg_Loss: 0.00110 ['MAELoss: 0.01852']\n",
      "Eval:   Avg_Loss: 0.00247 ['MAELoss: 0.02743']\n",
      "Train Epoch: 123   Avg_Loss: 0.00108 ['MAELoss: 0.01835']\n",
      "Eval:   Avg_Loss: 0.00242 ['MAELoss: 0.02715']\n",
      "Train Epoch: 124   Avg_Loss: 0.00107 ['MAELoss: 0.01818']\n",
      "Eval:   Avg_Loss: 0.00238 ['MAELoss: 0.02685']\n",
      "Train Epoch: 125   Avg_Loss: 0.00105 ['MAELoss: 0.01800']\n",
      "Eval:   Avg_Loss: 0.00234 ['MAELoss: 0.02655']\n",
      "Train Epoch: 126   Avg_Loss: 0.00103 ['MAELoss: 0.01783']\n",
      "Eval:   Avg_Loss: 0.00229 ['MAELoss: 0.02627']\n",
      "Train Epoch: 127   Avg_Loss: 0.00102 ['MAELoss: 0.01766']\n",
      "Eval:   Avg_Loss: 0.00225 ['MAELoss: 0.02600']\n",
      "Train Epoch: 128   Avg_Loss: 0.00100 ['MAELoss: 0.01750']\n",
      "Eval:   Avg_Loss: 0.00222 ['MAELoss: 0.02574']\n",
      "Train Epoch: 129   Avg_Loss: 0.00099 ['MAELoss: 0.01734']\n",
      "Eval:   Avg_Loss: 0.00219 ['MAELoss: 0.02549']\n",
      "Train Epoch: 130   Avg_Loss: 0.00097 ['MAELoss: 0.01718']\n",
      "Eval:   Avg_Loss: 0.00216 ['MAELoss: 0.02524']\n",
      "Train Epoch: 131   Avg_Loss: 0.00095 ['MAELoss: 0.01702']\n",
      "Eval:   Avg_Loss: 0.00213 ['MAELoss: 0.02499']\n",
      "Train Epoch: 132   Avg_Loss: 0.00094 ['MAELoss: 0.01687']\n",
      "Eval:   Avg_Loss: 0.00209 ['MAELoss: 0.02474']\n",
      "Train Epoch: 133   Avg_Loss: 0.00093 ['MAELoss: 0.01673']\n",
      "Eval:   Avg_Loss: 0.00206 ['MAELoss: 0.02450']\n",
      "Train Epoch: 134   Avg_Loss: 0.00091 ['MAELoss: 0.01659']\n",
      "Eval:   Avg_Loss: 0.00202 ['MAELoss: 0.02426']\n",
      "Train Epoch: 135   Avg_Loss: 0.00090 ['MAELoss: 0.01646']\n",
      "Eval:   Avg_Loss: 0.00199 ['MAELoss: 0.02404']\n",
      "Train Epoch: 136   Avg_Loss: 0.00088 ['MAELoss: 0.01633']\n",
      "Eval:   Avg_Loss: 0.00196 ['MAELoss: 0.02383']\n",
      "Train Epoch: 137   Avg_Loss: 0.00087 ['MAELoss: 0.01619']\n",
      "Eval:   Avg_Loss: 0.00193 ['MAELoss: 0.02362']\n",
      "Train Epoch: 138   Avg_Loss: 0.00086 ['MAELoss: 0.01604']\n",
      "Eval:   Avg_Loss: 0.00191 ['MAELoss: 0.02343']\n",
      "Train Epoch: 139   Avg_Loss: 0.00085 ['MAELoss: 0.01590']\n",
      "Eval:   Avg_Loss: 0.00188 ['MAELoss: 0.02325']\n",
      "Train Epoch: 140   Avg_Loss: 0.00083 ['MAELoss: 0.01575']\n",
      "Eval:   Avg_Loss: 0.00187 ['MAELoss: 0.02309']\n",
      "Train Epoch: 141   Avg_Loss: 0.00082 ['MAELoss: 0.01561']\n",
      "Eval:   Avg_Loss: 0.00185 ['MAELoss: 0.02294']\n",
      "Train Epoch: 142   Avg_Loss: 0.00081 ['MAELoss: 0.01548']\n",
      "Eval:   Avg_Loss: 0.00183 ['MAELoss: 0.02279']\n",
      "Train Epoch: 143   Avg_Loss: 0.00080 ['MAELoss: 0.01536']\n",
      "Eval:   Avg_Loss: 0.00181 ['MAELoss: 0.02263']\n",
      "Train Epoch: 144   Avg_Loss: 0.00079 ['MAELoss: 0.01523']\n",
      "Eval:   Avg_Loss: 0.00178 ['MAELoss: 0.02246']\n",
      "Train Epoch: 145   Avg_Loss: 0.00077 ['MAELoss: 0.01509']\n",
      "Eval:   Avg_Loss: 0.00176 ['MAELoss: 0.02228']\n",
      "Train Epoch: 146   Avg_Loss: 0.00076 ['MAELoss: 0.01495']\n",
      "Eval:   Avg_Loss: 0.00174 ['MAELoss: 0.02209']\n",
      "Train Epoch: 147   Avg_Loss: 0.00075 ['MAELoss: 0.01483']\n",
      "Eval:   Avg_Loss: 0.00171 ['MAELoss: 0.02192']\n",
      "Train Epoch: 148   Avg_Loss: 0.00074 ['MAELoss: 0.01471']\n",
      "Eval:   Avg_Loss: 0.00169 ['MAELoss: 0.02176']\n",
      "Train Epoch: 149   Avg_Loss: 0.00073 ['MAELoss: 0.01460']\n",
      "Eval:   Avg_Loss: 0.00167 ['MAELoss: 0.02161']\n",
      "Train Epoch: 150   Avg_Loss: 0.00072 ['MAELoss: 0.01447']\n",
      "Eval:   Avg_Loss: 0.00165 ['MAELoss: 0.02146']\n",
      "Train Epoch: 151   Avg_Loss: 0.00071 ['MAELoss: 0.01434']\n",
      "Eval:   Avg_Loss: 0.00163 ['MAELoss: 0.02132']\n",
      "Train Epoch: 152   Avg_Loss: 0.00070 ['MAELoss: 0.01422']\n",
      "Eval:   Avg_Loss: 0.00162 ['MAELoss: 0.02119']\n",
      "Train Epoch: 153   Avg_Loss: 0.00069 ['MAELoss: 0.01411']\n",
      "Eval:   Avg_Loss: 0.00160 ['MAELoss: 0.02106']\n",
      "Train Epoch: 154   Avg_Loss: 0.00068 ['MAELoss: 0.01400']\n",
      "Eval:   Avg_Loss: 0.00158 ['MAELoss: 0.02093']\n",
      "Train Epoch: 155   Avg_Loss: 0.00067 ['MAELoss: 0.01390']\n",
      "Eval:   Avg_Loss: 0.00156 ['MAELoss: 0.02079']\n",
      "Train Epoch: 156   Avg_Loss: 0.00066 ['MAELoss: 0.01379']\n",
      "Eval:   Avg_Loss: 0.00154 ['MAELoss: 0.02066']\n",
      "Train Epoch: 157   Avg_Loss: 0.00065 ['MAELoss: 0.01369']\n",
      "Eval:   Avg_Loss: 0.00152 ['MAELoss: 0.02052']\n",
      "Train Epoch: 158   Avg_Loss: 0.00064 ['MAELoss: 0.01359']\n",
      "Eval:   Avg_Loss: 0.00149 ['MAELoss: 0.02034']\n",
      "Train Epoch: 159   Avg_Loss: 0.00063 ['MAELoss: 0.01349']\n",
      "Eval:   Avg_Loss: 0.00147 ['MAELoss: 0.02019']\n",
      "Train Epoch: 160   Avg_Loss: 0.00062 ['MAELoss: 0.01339']\n",
      "Eval:   Avg_Loss: 0.00146 ['MAELoss: 0.02008']\n",
      "Train Epoch: 161   Avg_Loss: 0.00061 ['MAELoss: 0.01330']\n",
      "Eval:   Avg_Loss: 0.00145 ['MAELoss: 0.01995']\n",
      "Train Epoch: 162   Avg_Loss: 0.00060 ['MAELoss: 0.01320']\n",
      "Eval:   Avg_Loss: 0.00143 ['MAELoss: 0.01984']\n",
      "Train Epoch: 163   Avg_Loss: 0.00059 ['MAELoss: 0.01311']\n",
      "Eval:   Avg_Loss: 0.00141 ['MAELoss: 0.01971']\n",
      "Train Epoch: 164   Avg_Loss: 0.00058 ['MAELoss: 0.01302']\n",
      "Eval:   Avg_Loss: 0.00139 ['MAELoss: 0.01958']\n",
      "Train Epoch: 165   Avg_Loss: 0.00057 ['MAELoss: 0.01292']\n",
      "Eval:   Avg_Loss: 0.00138 ['MAELoss: 0.01947']\n",
      "Train Epoch: 166   Avg_Loss: 0.00057 ['MAELoss: 0.01283']\n",
      "Eval:   Avg_Loss: 0.00136 ['MAELoss: 0.01934']\n",
      "Train Epoch: 167   Avg_Loss: 0.00056 ['MAELoss: 0.01274']\n",
      "Eval:   Avg_Loss: 0.00135 ['MAELoss: 0.01923']\n",
      "Train Epoch: 168   Avg_Loss: 0.00055 ['MAELoss: 0.01264']\n",
      "Eval:   Avg_Loss: 0.00133 ['MAELoss: 0.01915']\n",
      "Train Epoch: 169   Avg_Loss: 0.00054 ['MAELoss: 0.01255']\n",
      "Eval:   Avg_Loss: 0.00132 ['MAELoss: 0.01907']\n",
      "Train Epoch: 170   Avg_Loss: 0.00053 ['MAELoss: 0.01246']\n",
      "Eval:   Avg_Loss: 0.00131 ['MAELoss: 0.01893']\n",
      "Train Epoch: 171   Avg_Loss: 0.00053 ['MAELoss: 0.01238']\n",
      "Eval:   Avg_Loss: 0.00129 ['MAELoss: 0.01879']\n",
      "Train Epoch: 172   Avg_Loss: 0.00052 ['MAELoss: 0.01231']\n",
      "Eval:   Avg_Loss: 0.00127 ['MAELoss: 0.01866']\n",
      "Train Epoch: 173   Avg_Loss: 0.00051 ['MAELoss: 0.01224']\n",
      "Eval:   Avg_Loss: 0.00125 ['MAELoss: 0.01854']\n",
      "Train Epoch: 174   Avg_Loss: 0.00050 ['MAELoss: 0.01217']\n",
      "Eval:   Avg_Loss: 0.00123 ['MAELoss: 0.01840']\n",
      "Train Epoch: 175   Avg_Loss: 0.00050 ['MAELoss: 0.01210']\n",
      "Eval:   Avg_Loss: 0.00121 ['MAELoss: 0.01829']\n",
      "Train Epoch: 176   Avg_Loss: 0.00049 ['MAELoss: 0.01203']\n",
      "Eval:   Avg_Loss: 0.00120 ['MAELoss: 0.01818']\n",
      "Train Epoch: 177   Avg_Loss: 0.00048 ['MAELoss: 0.01196']\n",
      "Eval:   Avg_Loss: 0.00118 ['MAELoss: 0.01807']\n",
      "Train Epoch: 178   Avg_Loss: 0.00048 ['MAELoss: 0.01187']\n",
      "Eval:   Avg_Loss: 0.00117 ['MAELoss: 0.01796']\n",
      "Train Epoch: 179   Avg_Loss: 0.00047 ['MAELoss: 0.01180']\n",
      "Eval:   Avg_Loss: 0.00115 ['MAELoss: 0.01786']\n",
      "Train Epoch: 180   Avg_Loss: 0.00046 ['MAELoss: 0.01172']\n",
      "Eval:   Avg_Loss: 0.00114 ['MAELoss: 0.01774']\n",
      "Train Epoch: 181   Avg_Loss: 0.00046 ['MAELoss: 0.01165']\n",
      "Eval:   Avg_Loss: 0.00113 ['MAELoss: 0.01765']\n"
     ]
    },
    {
     "name": "stdout",
     "output_type": "stream",
     "text": [
      "Train Epoch: 182   Avg_Loss: 0.00045 ['MAELoss: 0.01158']\n",
      "Eval:   Avg_Loss: 0.00112 ['MAELoss: 0.01755']\n",
      "Train Epoch: 183   Avg_Loss: 0.00044 ['MAELoss: 0.01151']\n",
      "Eval:   Avg_Loss: 0.00110 ['MAELoss: 0.01745']\n",
      "Train Epoch: 184   Avg_Loss: 0.00044 ['MAELoss: 0.01144']\n",
      "Eval:   Avg_Loss: 0.00109 ['MAELoss: 0.01734']\n",
      "Train Epoch: 185   Avg_Loss: 0.00043 ['MAELoss: 0.01137']\n",
      "Eval:   Avg_Loss: 0.00107 ['MAELoss: 0.01724']\n",
      "Train Epoch: 186   Avg_Loss: 0.00043 ['MAELoss: 0.01130']\n",
      "Eval:   Avg_Loss: 0.00106 ['MAELoss: 0.01716']\n",
      "Train Epoch: 187   Avg_Loss: 0.00042 ['MAELoss: 0.01122']\n",
      "Eval:   Avg_Loss: 0.00106 ['MAELoss: 0.01709']\n",
      "Train Epoch: 188   Avg_Loss: 0.00041 ['MAELoss: 0.01115']\n",
      "Eval:   Avg_Loss: 0.00105 ['MAELoss: 0.01704']\n",
      "Train Epoch: 189   Avg_Loss: 0.00041 ['MAELoss: 0.01109']\n",
      "Eval:   Avg_Loss: 0.00104 ['MAELoss: 0.01698']\n",
      "Train Epoch: 190   Avg_Loss: 0.00040 ['MAELoss: 0.01102']\n",
      "Eval:   Avg_Loss: 0.00103 ['MAELoss: 0.01688']\n",
      "Train Epoch: 191   Avg_Loss: 0.00040 ['MAELoss: 0.01095']\n",
      "Eval:   Avg_Loss: 0.00101 ['MAELoss: 0.01677']\n",
      "Train Epoch: 192   Avg_Loss: 0.00039 ['MAELoss: 0.01089']\n",
      "Eval:   Avg_Loss: 0.00100 ['MAELoss: 0.01667']\n",
      "Train Epoch: 193   Avg_Loss: 0.00039 ['MAELoss: 0.01084']\n",
      "Eval:   Avg_Loss: 0.00099 ['MAELoss: 0.01658']\n",
      "Train Epoch: 194   Avg_Loss: 0.00038 ['MAELoss: 0.01077']\n",
      "Eval:   Avg_Loss: 0.00098 ['MAELoss: 0.01649']\n",
      "Train Epoch: 195   Avg_Loss: 0.00038 ['MAELoss: 0.01071']\n",
      "Eval:   Avg_Loss: 0.00097 ['MAELoss: 0.01643']\n",
      "Train Epoch: 196   Avg_Loss: 0.00037 ['MAELoss: 0.01064']\n",
      "Eval:   Avg_Loss: 0.00096 ['MAELoss: 0.01636']\n",
      "Train Epoch: 197   Avg_Loss: 0.00037 ['MAELoss: 0.01057']\n",
      "Eval:   Avg_Loss: 0.00095 ['MAELoss: 0.01628']\n",
      "Train Epoch: 198   Avg_Loss: 0.00036 ['MAELoss: 0.01051']\n",
      "Eval:   Avg_Loss: 0.00094 ['MAELoss: 0.01620']\n",
      "Train Epoch: 199   Avg_Loss: 0.00036 ['MAELoss: 0.01045']\n",
      "Eval:   Avg_Loss: 0.00093 ['MAELoss: 0.01611']\n",
      "Train Epoch: 200   Avg_Loss: 0.00035 ['MAELoss: 0.01039']\n",
      "Eval:   Avg_Loss: 0.00092 ['MAELoss: 0.01602']\n"
     ]
    }
   ],
   "source": [
    "torch_sim_params=torch_sim_config.get_options_dict()\n",
    "torch_sim.train(train_dataset=benchmark_ffnn.train_dataset,\n",
    "                    val_dataset=benchmark_ffnn.val_dataset,\n",
    "                    save_path=SAVE_PATH,\n",
    "                    **torch_sim_params)"
   ]
  },
  {
   "cell_type": "code",
   "execution_count": 13,
   "id": "a27a8474",
   "metadata": {},
   "outputs": [],
   "source": [
    "torch_sim_metrics_val = benchmark_ffnn.evaluate_simulator(augmented_simulator=torch_sim,\n",
    "                                                  eval_batch_size=128,\n",
    "                                                  dataset=\"val\",\n",
    "                                                  shuffle=False,\n",
    "                                                  save_path=None,\n",
    "                                                  save_predictions=False\n",
    "                                                 )"
   ]
  },
  {
   "cell_type": "code",
   "execution_count": 14,
   "id": "f120fb80",
   "metadata": {},
   "outputs": [],
   "source": [
    "torch_sim_metrics_test = benchmark_ffnn.evaluate_simulator(augmented_simulator=torch_sim,\n",
    "                                                  eval_batch_size=128,\n",
    "                                                  dataset=\"test\",\n",
    "                                                  shuffle=False,\n",
    "                                                  save_path=None,\n",
    "                                                  save_predictions=False\n",
    "                                                 )"
   ]
  },
  {
   "cell_type": "code",
   "execution_count": 15,
   "id": "a6133ff7",
   "metadata": {},
   "outputs": [
    {
     "data": {
      "text/plain": [
       "{'val': {'ML': {'MSE_avg': {'disp': 0.00010135043998655256},\n",
       "   'MAE_avg': {'disp': 0.0072156050401917535},\n",
       "   'MSE_avg2': {'disp': 0.00010135043998655256},\n",
       "   'MAE_avg2': {'disp': 0.007215605040191754}},\n",
       "  'Physics': {},\n",
       "  'IndRed': {}}}"
      ]
     },
     "execution_count": 15,
     "metadata": {},
     "output_type": "execute_result"
    }
   ],
   "source": [
    "torch_sim_metrics_val"
   ]
  },
  {
   "cell_type": "markdown",
   "id": "11781e5f",
   "metadata": {},
   "source": [
    "# Start training with CNN"
   ]
  },
  {
   "cell_type": "code",
   "execution_count": 16,
   "id": "e7ef889e",
   "metadata": {},
   "outputs": [],
   "source": [
    "wheel_config=ConfigManager(path=CONFIG_PATH_BENCHMARK,\n",
    "                              section_name=\"WeightSustainingWheelBenchmarkInterpolated\")\n",
    "env_params=wheel_config.get_option(\"env_params\")\n",
    "physical_domain=env_params.get(\"physical_domain\")\n",
    "physical_properties=env_params.get(\"physical_properties\")\n",
    "simulator=GetfemSimulator(physical_domain=physical_domain,physical_properties=physical_properties)\n",
    "\n",
    "attr_x= wheel_config.get_option(\"attr_x\")\n",
    "attr_y= (\"disp\",)\n",
    "attr_names=attr_x+attr_y"
   ]
  },
  {
   "cell_type": "code",
   "execution_count": 17,
   "id": "07b1165e",
   "metadata": {},
   "outputs": [],
   "source": [
    "pneumatic_wheel_datasets={\n",
    "    \"train\":pneumatic_wheel_dataset_train,\n",
    "    \"val\":pneumatic_wheel_dataset_val,\n",
    "    \"test\":pneumatic_wheel_dataset_test\n",
    "    \n",
    "}"
   ]
  },
  {
   "cell_type": "markdown",
   "id": "d1788d0f",
   "metadata": {},
   "source": [
    "# Define interpolation"
   ]
  },
  {
   "cell_type": "code",
   "execution_count": 18,
   "id": "5429c0ec",
   "metadata": {},
   "outputs": [],
   "source": [
    "interpolation_info=wheel_config.get_option(\"interpolation_info\")\n",
    "grid_support=interpolation_info.get(\"grid_support\")\n",
    "dofnum_by_field=interpolation_info.get(\"dofnum_by_field\")"
   ]
  },
  {
   "cell_type": "code",
   "execution_count": 19,
   "id": "0fcebe34",
   "metadata": {},
   "outputs": [],
   "source": [
    "dataset_by_type=dict()\n",
    "for name,dataset in pneumatic_wheel_datasets.items():\n",
    "    myTransformer=DataSetInterpolatorOnGrid(name=name,\n",
    "                                                simulator=simulator,\n",
    "                                                dataset=dataset,\n",
    "                                                grid_support=grid_support)\n",
    "    myTransformer.generate(dofnum_by_field=dofnum_by_field,path_out=\"WeightSustainingWheelBenchmarkInterpolated\")\n",
    "    dataset_by_type[dataset.name]=myTransformer"
   ]
  },
  {
   "cell_type": "code",
   "execution_count": 20,
   "id": "952e4a51",
   "metadata": {},
   "outputs": [],
   "source": [
    "LOG_PATH=\"WeightSustainingCNN.log\"\n",
    "benchmark_cnn = WeightSustainingWheelBenchmark(benchmark_name=\"WeightSustainingWheelBenchmarkInterpolated\",\n",
    "                                benchmark_path=\".\",\n",
    "                                load_data_set=True,\n",
    "                                log_path=LOG_PATH,\n",
    "                                config_path=CONFIG_PATH_BENCHMARK\n",
    "                               )"
   ]
  },
  {
   "cell_type": "code",
   "execution_count": 21,
   "id": "7cd4ace0",
   "metadata": {},
   "outputs": [
    {
     "name": "stdout",
     "output_type": "stream",
     "text": [
      "Warning: path_config (/home/ddanan/HSAProject/LIPSPlatform/LIPS_Github/LIPS/lips/config/conf.ini) file not found\n"
     ]
    }
   ],
   "source": [
    "torch_sim = TorchSimulator(name=\"torch_unet\",\n",
    "                           model=TorchUnet,\n",
    "                           scaler=StandardScalerPerChannel,\n",
    "                           log_path=LOG_PATH,\n",
    "                           seed=42,\n",
    "                           architecture_type=\"Classical\",\n",
    "                          )"
   ]
  },
  {
   "cell_type": "code",
   "execution_count": 22,
   "id": "f583d2b9",
   "metadata": {},
   "outputs": [],
   "source": [
    "SAVE_PATH=\"/home/ddanan/HSAProject/LIPSPlatform/LIPS_Github/LIPS/getting_started/TestBenchmarkWheel/CNNResults\"\n",
    "CONFIG_PATH_AUGMENTED_SIMULATOR_UNET=\"/home/ddanan/HSAProject/LIPSPlatform/LIPS_Github/LIPS/configurations/pneumatic/simulators/torch_unet.ini\"\n",
    "torch_sim_config=ConfigManager(path=CONFIG_PATH_AUGMENTED_SIMULATOR_UNET,\n",
    "                              section_name=\"DEFAULT\")\n",
    "torch_sim_params=torch_sim_config.get_options_dict()"
   ]
  },
  {
   "cell_type": "code",
   "execution_count": 40,
   "id": "e484bf9e",
   "metadata": {},
   "outputs": [
    {
     "name": "stdout",
     "output_type": "stream",
     "text": [
      "Train Epoch: 1   Avg_Loss: 0.54849 ['MAELoss: 0.54535']\n",
      "Eval:   Avg_Loss: 0.35362 ['MAELoss: 0.29057']\n",
      "Train Epoch: 2   Avg_Loss: 0.26186 ['MAELoss: 0.39085']\n",
      "Eval:   Avg_Loss: 0.34919 ['MAELoss: 0.29356']\n"
     ]
    }
   ],
   "source": [
    "torch_sim_params[\"epochs\"]=2\n",
    "torch_sim.train(train_dataset=benchmark_cnn.train_dataset,\n",
    "                    val_dataset=benchmark_cnn.val_dataset,\n",
    "                    save_path=SAVE_PATH,\n",
    "                    **torch_sim_params)"
   ]
  },
  {
   "cell_type": "code",
   "execution_count": 41,
   "id": "a4a87745",
   "metadata": {},
   "outputs": [],
   "source": [
    "predictor_val = benchmark_cnn.evaluate_predictor(augmented_simulator=torch_sim,\n",
    "                                                  eval_batch_size=128,\n",
    "                                                  dataset=\"val\",\n",
    "                                                  shuffle=False,\n",
    "                                                  save_path=None,\n",
    "                                                  save_predictions=False\n",
    "                                                 )"
   ]
  },
  {
   "cell_type": "code",
   "execution_count": 42,
   "id": "88b931bc",
   "metadata": {},
   "outputs": [],
   "source": [
    "name=\"val\"\n",
    "field_name=PFN.displacement\n",
    "prediction=predictor_val[name]\n",
    "interpolated_field_name=field_name+\"Interpolated\"\n",
    "prediction[field_name] = prediction.pop(interpolated_field_name)\n",
    "simulator=dataset_by_type[name].simulator"
   ]
  },
  {
   "cell_type": "markdown",
   "id": "3cdadd8f",
   "metadata": {},
   "source": [
    "# Interpolate back to mesh"
   ]
  },
  {
   "cell_type": "code",
   "execution_count": 45,
   "id": "e6fa40f4",
   "metadata": {},
   "outputs": [],
   "source": [
    "interpolated_dataset_grid=DataSetInterpolatorOnGrid(name=name,\n",
    "                                                      simulator=simulator,\n",
    "                                                      dataset=dataset_by_type[name],\n",
    "                                                      grid_support=dataset_by_type[name].grid_support)\n",
    "\n",
    "interpolated_dataset_grid.load_from_data(grid_support_points=dataset_by_type[name].grid_support_points,\n",
    "                                           interpolated_dataset=prediction,\n",
    "                                           distributed_inputs_on_grid=dataset_by_type[name].distributed_inputs_on_grid)\n",
    "\n",
    "interpolated_datas_on_mesh=DataSetInterpolatorOnMesh(name=name,\n",
    "                                                      simulator=simulator,\n",
    "                                                      dataset=interpolated_dataset_grid)\n",
    "interpolated_datas_on_mesh.generate(field_names=[field_name])\n",
    "prediction_on_mesh={name: interpolated_datas_on_mesh.interpolated_dataset}\n",
    "observation_val_on_mesh={\"val\":pneumatic_wheel_datasets[\"val\"].data}"
   ]
  },
  {
   "cell_type": "code",
   "execution_count": 47,
   "id": "d0631b2e",
   "metadata": {},
   "outputs": [
    {
     "name": "stdout",
     "output_type": "stream",
     "text": [
      "{'val': {'ML': {'MSE_avg': {'disp': 0.0880942398360073}, 'MAE_avg': {'disp': 0.19826239620575928}, 'MSE_avg2': {'disp': 0.0880942398360073}, 'MAE_avg2': {'disp': 0.19826239620575928}}, 'Physics': {}, 'IndRed': {}}}\n"
     ]
    }
   ],
   "source": [
    "torch_sim_metrics_val = benchmark_cnn.evaluate_simulator_from_predictions(predictions=prediction_on_mesh,\n",
    "                                                                             observations=observation_val_on_mesh,\n",
    "                                                                             eval_batch_size=128,\n",
    "                                                                             dataset=\"val\",\n",
    "                                                                             shuffle=False,\n",
    "                                                                             save_path=None,\n",
    "                                                                             save_predictions=False\n",
    "                                                                            )\n",
    "print(torch_sim_metrics_val)"
   ]
  },
  {
   "cell_type": "code",
   "execution_count": null,
   "id": "328ef749",
   "metadata": {},
   "outputs": [],
   "source": []
  }
 ],
 "metadata": {
  "kernelspec": {
   "display_name": "Python 3 (ipykernel)",
   "language": "python",
   "name": "python3"
  },
  "language_info": {
   "codemirror_mode": {
    "name": "ipython",
    "version": 3
   },
   "file_extension": ".py",
   "mimetype": "text/x-python",
   "name": "python",
   "nbconvert_exporter": "python",
   "pygments_lexer": "ipython3",
   "version": "3.8.13"
  }
 },
 "nbformat": 4,
 "nbformat_minor": 5
}
